{
 "cells": [
  {
   "cell_type": "code",
   "execution_count": 60,
   "id": "89fa91ef",
   "metadata": {},
   "outputs": [],
   "source": [
    "import pandas as pd\n",
    "from sklearn.neighbors import KNeighborsClassifier\n",
    "from sklearn.linear_model import LogisticRegression\n",
    "from sklearn.preprocessing import MinMaxScaler\n",
    "from sklearn.metrics import accuracy_score"
   ]
  },
  {
   "cell_type": "code",
   "execution_count": 109,
   "id": "eabdd002",
   "metadata": {},
   "outputs": [
    {
     "data": {
      "text/html": [
       "<div>\n",
       "<style scoped>\n",
       "    .dataframe tbody tr th:only-of-type {\n",
       "        vertical-align: middle;\n",
       "    }\n",
       "\n",
       "    .dataframe tbody tr th {\n",
       "        vertical-align: top;\n",
       "    }\n",
       "\n",
       "    .dataframe thead th {\n",
       "        text-align: right;\n",
       "    }\n",
       "</style>\n",
       "<table border=\"1\" class=\"dataframe\">\n",
       "  <thead>\n",
       "    <tr style=\"text-align: right;\">\n",
       "      <th></th>\n",
       "      <th>uuid</th>\n",
       "      <th>cancer_type</th>\n",
       "      <th>dataset</th>\n",
       "      <th>pca_0</th>\n",
       "      <th>pca_1</th>\n",
       "      <th>pca_2</th>\n",
       "      <th>pca_3</th>\n",
       "      <th>pca_4</th>\n",
       "      <th>pca_5</th>\n",
       "      <th>pca_6</th>\n",
       "      <th>...</th>\n",
       "      <th>pca_50</th>\n",
       "      <th>pca_51</th>\n",
       "      <th>pca_52</th>\n",
       "      <th>pca_53</th>\n",
       "      <th>pca_54</th>\n",
       "      <th>pca_55</th>\n",
       "      <th>pca_56</th>\n",
       "      <th>pca_57</th>\n",
       "      <th>pca_58</th>\n",
       "      <th>pca_59</th>\n",
       "    </tr>\n",
       "  </thead>\n",
       "  <tbody>\n",
       "    <tr>\n",
       "      <th>0</th>\n",
       "      <td>0180b8ef-dbca-4edd-bce1-3f793f354f13</td>\n",
       "      <td>bladder</td>\n",
       "      <td>Train</td>\n",
       "      <td>51341.149046</td>\n",
       "      <td>224.332085</td>\n",
       "      <td>6284.131631</td>\n",
       "      <td>-791.275314</td>\n",
       "      <td>4221.665014</td>\n",
       "      <td>11298.487282</td>\n",
       "      <td>-1097.097804</td>\n",
       "      <td>...</td>\n",
       "      <td>-4760.828236</td>\n",
       "      <td>1338.107140</td>\n",
       "      <td>-301.895746</td>\n",
       "      <td>1460.898447</td>\n",
       "      <td>-533.414034</td>\n",
       "      <td>771.326745</td>\n",
       "      <td>14.096859</td>\n",
       "      <td>-489.513635</td>\n",
       "      <td>374.709250</td>\n",
       "      <td>-1087.102377</td>\n",
       "    </tr>\n",
       "    <tr>\n",
       "      <th>1</th>\n",
       "      <td>01d381c7-6398-47cb-925c-078cd538852f</td>\n",
       "      <td>bladder</td>\n",
       "      <td>Validation</td>\n",
       "      <td>-24713.227977</td>\n",
       "      <td>-4937.493520</td>\n",
       "      <td>-8576.115927</td>\n",
       "      <td>6380.664917</td>\n",
       "      <td>953.620223</td>\n",
       "      <td>265.173635</td>\n",
       "      <td>-11147.398920</td>\n",
       "      <td>...</td>\n",
       "      <td>-544.957383</td>\n",
       "      <td>-853.258191</td>\n",
       "      <td>1115.313101</td>\n",
       "      <td>-423.365952</td>\n",
       "      <td>713.141917</td>\n",
       "      <td>-476.924797</td>\n",
       "      <td>-5879.356001</td>\n",
       "      <td>373.075417</td>\n",
       "      <td>-152.409310</td>\n",
       "      <td>410.479902</td>\n",
       "    </tr>\n",
       "    <tr>\n",
       "      <th>2</th>\n",
       "      <td>0240ae8f-9354-4123-b791-5333317ae9f0</td>\n",
       "      <td>bladder</td>\n",
       "      <td>Train</td>\n",
       "      <td>-41222.406099</td>\n",
       "      <td>-2691.464414</td>\n",
       "      <td>-1066.245282</td>\n",
       "      <td>-6521.645631</td>\n",
       "      <td>631.176632</td>\n",
       "      <td>-687.979052</td>\n",
       "      <td>2562.847278</td>\n",
       "      <td>...</td>\n",
       "      <td>1368.377020</td>\n",
       "      <td>1454.780030</td>\n",
       "      <td>-1284.603736</td>\n",
       "      <td>1254.236279</td>\n",
       "      <td>-1282.694716</td>\n",
       "      <td>-1252.613858</td>\n",
       "      <td>-918.127351</td>\n",
       "      <td>-790.156701</td>\n",
       "      <td>-203.156907</td>\n",
       "      <td>-663.137157</td>\n",
       "    </tr>\n",
       "    <tr>\n",
       "      <th>3</th>\n",
       "      <td>047dc5b6-c15e-4dad-b753-de55ca6e171c</td>\n",
       "      <td>bladder</td>\n",
       "      <td>Train</td>\n",
       "      <td>-48630.249914</td>\n",
       "      <td>2795.951791</td>\n",
       "      <td>21682.475207</td>\n",
       "      <td>3069.687377</td>\n",
       "      <td>-1976.292654</td>\n",
       "      <td>404.694296</td>\n",
       "      <td>8331.884970</td>\n",
       "      <td>...</td>\n",
       "      <td>191.328683</td>\n",
       "      <td>1298.657334</td>\n",
       "      <td>-583.302459</td>\n",
       "      <td>2693.377669</td>\n",
       "      <td>-743.301938</td>\n",
       "      <td>-190.797584</td>\n",
       "      <td>-421.069083</td>\n",
       "      <td>161.733526</td>\n",
       "      <td>538.529883</td>\n",
       "      <td>-1171.735144</td>\n",
       "    </tr>\n",
       "    <tr>\n",
       "      <th>4</th>\n",
       "      <td>048da4d7-cab0-49c5-8bc9-78b1bf0b365b</td>\n",
       "      <td>bladder</td>\n",
       "      <td>Train</td>\n",
       "      <td>-8188.487975</td>\n",
       "      <td>-6644.862627</td>\n",
       "      <td>-5120.646124</td>\n",
       "      <td>6206.666494</td>\n",
       "      <td>1472.085506</td>\n",
       "      <td>-4704.178776</td>\n",
       "      <td>1028.238671</td>\n",
       "      <td>...</td>\n",
       "      <td>-2720.961626</td>\n",
       "      <td>-1392.612204</td>\n",
       "      <td>1617.116272</td>\n",
       "      <td>-1067.813277</td>\n",
       "      <td>403.260643</td>\n",
       "      <td>761.699692</td>\n",
       "      <td>908.205828</td>\n",
       "      <td>485.888415</td>\n",
       "      <td>201.592503</td>\n",
       "      <td>864.248479</td>\n",
       "    </tr>\n",
       "    <tr>\n",
       "      <th>...</th>\n",
       "      <td>...</td>\n",
       "      <td>...</td>\n",
       "      <td>...</td>\n",
       "      <td>...</td>\n",
       "      <td>...</td>\n",
       "      <td>...</td>\n",
       "      <td>...</td>\n",
       "      <td>...</td>\n",
       "      <td>...</td>\n",
       "      <td>...</td>\n",
       "      <td>...</td>\n",
       "      <td>...</td>\n",
       "      <td>...</td>\n",
       "      <td>...</td>\n",
       "      <td>...</td>\n",
       "      <td>...</td>\n",
       "      <td>...</td>\n",
       "      <td>...</td>\n",
       "      <td>...</td>\n",
       "      <td>...</td>\n",
       "      <td>...</td>\n",
       "    </tr>\n",
       "    <tr>\n",
       "      <th>8793</th>\n",
       "      <td>fec8ed36-230c-470a-b89d-983d380a9bc6</td>\n",
       "      <td>thyroid_gland</td>\n",
       "      <td>Train</td>\n",
       "      <td>22775.604324</td>\n",
       "      <td>126613.379587</td>\n",
       "      <td>-58377.048166</td>\n",
       "      <td>14801.533869</td>\n",
       "      <td>-3122.715241</td>\n",
       "      <td>1773.130783</td>\n",
       "      <td>20751.737010</td>\n",
       "      <td>...</td>\n",
       "      <td>-2125.398842</td>\n",
       "      <td>3548.079981</td>\n",
       "      <td>-1627.844317</td>\n",
       "      <td>226.141126</td>\n",
       "      <td>1926.577998</td>\n",
       "      <td>1037.868628</td>\n",
       "      <td>-426.213716</td>\n",
       "      <td>-54.269960</td>\n",
       "      <td>-416.709332</td>\n",
       "      <td>1257.933106</td>\n",
       "    </tr>\n",
       "    <tr>\n",
       "      <th>8794</th>\n",
       "      <td>fed1f0b5-cd64-46e2-94b8-f15a8d50b78d</td>\n",
       "      <td>thyroid_gland</td>\n",
       "      <td>Train</td>\n",
       "      <td>-20121.285121</td>\n",
       "      <td>-4740.666809</td>\n",
       "      <td>-5353.612476</td>\n",
       "      <td>-4187.550328</td>\n",
       "      <td>2562.437862</td>\n",
       "      <td>2152.625662</td>\n",
       "      <td>1486.284054</td>\n",
       "      <td>...</td>\n",
       "      <td>-754.198023</td>\n",
       "      <td>-570.454567</td>\n",
       "      <td>588.555176</td>\n",
       "      <td>-371.121243</td>\n",
       "      <td>-902.630199</td>\n",
       "      <td>34.993176</td>\n",
       "      <td>-428.058787</td>\n",
       "      <td>-264.649004</td>\n",
       "      <td>419.573301</td>\n",
       "      <td>-88.210592</td>\n",
       "    </tr>\n",
       "    <tr>\n",
       "      <th>8795</th>\n",
       "      <td>ff4acef6-2a13-4004-8c19-9ecf6f022517</td>\n",
       "      <td>thyroid_gland</td>\n",
       "      <td>Train</td>\n",
       "      <td>28446.340043</td>\n",
       "      <td>-3592.100962</td>\n",
       "      <td>2922.506890</td>\n",
       "      <td>11184.886113</td>\n",
       "      <td>-7427.172762</td>\n",
       "      <td>-312.903380</td>\n",
       "      <td>-8800.618261</td>\n",
       "      <td>...</td>\n",
       "      <td>549.957030</td>\n",
       "      <td>-1044.445641</td>\n",
       "      <td>1251.699519</td>\n",
       "      <td>-373.646958</td>\n",
       "      <td>1569.769407</td>\n",
       "      <td>273.826270</td>\n",
       "      <td>-2798.552812</td>\n",
       "      <td>-203.466143</td>\n",
       "      <td>-174.150207</td>\n",
       "      <td>-201.538088</td>\n",
       "    </tr>\n",
       "    <tr>\n",
       "      <th>8796</th>\n",
       "      <td>ff67dabb-3dfc-4e47-8d92-3a76bbbdebc6</td>\n",
       "      <td>thyroid_gland</td>\n",
       "      <td>Validation</td>\n",
       "      <td>48650.979925</td>\n",
       "      <td>-4110.103366</td>\n",
       "      <td>11696.670366</td>\n",
       "      <td>37482.901360</td>\n",
       "      <td>-215.683692</td>\n",
       "      <td>12918.507041</td>\n",
       "      <td>-3999.327437</td>\n",
       "      <td>...</td>\n",
       "      <td>95.320380</td>\n",
       "      <td>-1840.221399</td>\n",
       "      <td>1644.799249</td>\n",
       "      <td>-303.037580</td>\n",
       "      <td>-1673.213745</td>\n",
       "      <td>2295.635136</td>\n",
       "      <td>46.198070</td>\n",
       "      <td>2506.474180</td>\n",
       "      <td>-796.929311</td>\n",
       "      <td>1844.208189</td>\n",
       "    </tr>\n",
       "    <tr>\n",
       "      <th>8797</th>\n",
       "      <td>ffc06fed-3437-4631-834d-5227eabcf4a7</td>\n",
       "      <td>thyroid_gland</td>\n",
       "      <td>Validation</td>\n",
       "      <td>-35076.116143</td>\n",
       "      <td>-4545.848769</td>\n",
       "      <td>-2828.631986</td>\n",
       "      <td>-1270.917102</td>\n",
       "      <td>-3686.683307</td>\n",
       "      <td>3493.903400</td>\n",
       "      <td>-545.385810</td>\n",
       "      <td>...</td>\n",
       "      <td>219.293531</td>\n",
       "      <td>-519.282111</td>\n",
       "      <td>300.339021</td>\n",
       "      <td>162.251647</td>\n",
       "      <td>-527.676653</td>\n",
       "      <td>3251.747898</td>\n",
       "      <td>-183.331223</td>\n",
       "      <td>-240.601754</td>\n",
       "      <td>-765.358829</td>\n",
       "      <td>716.616363</td>\n",
       "    </tr>\n",
       "  </tbody>\n",
       "</table>\n",
       "<p>8798 rows × 63 columns</p>\n",
       "</div>"
      ],
      "text/plain": [
       "                                      uuid    cancer_type     dataset  \\\n",
       "0     0180b8ef-dbca-4edd-bce1-3f793f354f13        bladder       Train   \n",
       "1     01d381c7-6398-47cb-925c-078cd538852f        bladder  Validation   \n",
       "2     0240ae8f-9354-4123-b791-5333317ae9f0        bladder       Train   \n",
       "3     047dc5b6-c15e-4dad-b753-de55ca6e171c        bladder       Train   \n",
       "4     048da4d7-cab0-49c5-8bc9-78b1bf0b365b        bladder       Train   \n",
       "...                                    ...            ...         ...   \n",
       "8793  fec8ed36-230c-470a-b89d-983d380a9bc6  thyroid_gland       Train   \n",
       "8794  fed1f0b5-cd64-46e2-94b8-f15a8d50b78d  thyroid_gland       Train   \n",
       "8795  ff4acef6-2a13-4004-8c19-9ecf6f022517  thyroid_gland       Train   \n",
       "8796  ff67dabb-3dfc-4e47-8d92-3a76bbbdebc6  thyroid_gland  Validation   \n",
       "8797  ffc06fed-3437-4631-834d-5227eabcf4a7  thyroid_gland  Validation   \n",
       "\n",
       "             pca_0          pca_1         pca_2         pca_3        pca_4  \\\n",
       "0     51341.149046     224.332085   6284.131631   -791.275314  4221.665014   \n",
       "1    -24713.227977   -4937.493520  -8576.115927   6380.664917   953.620223   \n",
       "2    -41222.406099   -2691.464414  -1066.245282  -6521.645631   631.176632   \n",
       "3    -48630.249914    2795.951791  21682.475207   3069.687377 -1976.292654   \n",
       "4     -8188.487975   -6644.862627  -5120.646124   6206.666494  1472.085506   \n",
       "...            ...            ...           ...           ...          ...   \n",
       "8793  22775.604324  126613.379587 -58377.048166  14801.533869 -3122.715241   \n",
       "8794 -20121.285121   -4740.666809  -5353.612476  -4187.550328  2562.437862   \n",
       "8795  28446.340043   -3592.100962   2922.506890  11184.886113 -7427.172762   \n",
       "8796  48650.979925   -4110.103366  11696.670366  37482.901360  -215.683692   \n",
       "8797 -35076.116143   -4545.848769  -2828.631986  -1270.917102 -3686.683307   \n",
       "\n",
       "             pca_5         pca_6  ...       pca_50       pca_51       pca_52  \\\n",
       "0     11298.487282  -1097.097804  ... -4760.828236  1338.107140  -301.895746   \n",
       "1       265.173635 -11147.398920  ...  -544.957383  -853.258191  1115.313101   \n",
       "2      -687.979052   2562.847278  ...  1368.377020  1454.780030 -1284.603736   \n",
       "3       404.694296   8331.884970  ...   191.328683  1298.657334  -583.302459   \n",
       "4     -4704.178776   1028.238671  ... -2720.961626 -1392.612204  1617.116272   \n",
       "...            ...           ...  ...          ...          ...          ...   \n",
       "8793   1773.130783  20751.737010  ... -2125.398842  3548.079981 -1627.844317   \n",
       "8794   2152.625662   1486.284054  ...  -754.198023  -570.454567   588.555176   \n",
       "8795   -312.903380  -8800.618261  ...   549.957030 -1044.445641  1251.699519   \n",
       "8796  12918.507041  -3999.327437  ...    95.320380 -1840.221399  1644.799249   \n",
       "8797   3493.903400   -545.385810  ...   219.293531  -519.282111   300.339021   \n",
       "\n",
       "           pca_53       pca_54       pca_55       pca_56       pca_57  \\\n",
       "0     1460.898447  -533.414034   771.326745    14.096859  -489.513635   \n",
       "1     -423.365952   713.141917  -476.924797 -5879.356001   373.075417   \n",
       "2     1254.236279 -1282.694716 -1252.613858  -918.127351  -790.156701   \n",
       "3     2693.377669  -743.301938  -190.797584  -421.069083   161.733526   \n",
       "4    -1067.813277   403.260643   761.699692   908.205828   485.888415   \n",
       "...           ...          ...          ...          ...          ...   \n",
       "8793   226.141126  1926.577998  1037.868628  -426.213716   -54.269960   \n",
       "8794  -371.121243  -902.630199    34.993176  -428.058787  -264.649004   \n",
       "8795  -373.646958  1569.769407   273.826270 -2798.552812  -203.466143   \n",
       "8796  -303.037580 -1673.213745  2295.635136    46.198070  2506.474180   \n",
       "8797   162.251647  -527.676653  3251.747898  -183.331223  -240.601754   \n",
       "\n",
       "          pca_58       pca_59  \n",
       "0     374.709250 -1087.102377  \n",
       "1    -152.409310   410.479902  \n",
       "2    -203.156907  -663.137157  \n",
       "3     538.529883 -1171.735144  \n",
       "4     201.592503   864.248479  \n",
       "...          ...          ...  \n",
       "8793 -416.709332  1257.933106  \n",
       "8794  419.573301   -88.210592  \n",
       "8795 -174.150207  -201.538088  \n",
       "8796 -796.929311  1844.208189  \n",
       "8797 -765.358829   716.616363  \n",
       "\n",
       "[8798 rows x 63 columns]"
      ]
     },
     "execution_count": 109,
     "metadata": {},
     "output_type": "execute_result"
    }
   ],
   "source": [
    "df=pd.read_csv(\"../output/FINAL/dataset.pca.60.csv\")\n",
    "# df.query('uuid==\"fec8ed36-230c-470a-b89d-983d380a9bc6\"')\n",
    "df"
   ]
  },
  {
   "cell_type": "code",
   "execution_count": 106,
   "id": "adea781b",
   "metadata": {},
   "outputs": [
    {
     "data": {
      "text/html": [
       "<div>\n",
       "<style scoped>\n",
       "    .dataframe tbody tr th:only-of-type {\n",
       "        vertical-align: middle;\n",
       "    }\n",
       "\n",
       "    .dataframe tbody tr th {\n",
       "        vertical-align: top;\n",
       "    }\n",
       "\n",
       "    .dataframe thead th {\n",
       "        text-align: right;\n",
       "    }\n",
       "</style>\n",
       "<table border=\"1\" class=\"dataframe\">\n",
       "  <thead>\n",
       "    <tr style=\"text-align: right;\">\n",
       "      <th></th>\n",
       "      <th>uuid</th>\n",
       "      <th>dataset</th>\n",
       "      <th>cancer_type</th>\n",
       "      <th>logreg_prediction</th>\n",
       "    </tr>\n",
       "  </thead>\n",
       "  <tbody>\n",
       "    <tr>\n",
       "      <th>3473</th>\n",
       "      <td>fec8ed36-230c-470a-b89d-983d380a9bc6</td>\n",
       "      <td>Train</td>\n",
       "      <td>thyroid_gland</td>\n",
       "      <td>thyroid_gland</td>\n",
       "    </tr>\n",
       "  </tbody>\n",
       "</table>\n",
       "</div>"
      ],
      "text/plain": [
       "                                      uuid dataset    cancer_type  \\\n",
       "3473  fec8ed36-230c-470a-b89d-983d380a9bc6   Train  thyroid_gland   \n",
       "\n",
       "     logreg_prediction  \n",
       "3473     thyroid_gland  "
      ]
     },
     "execution_count": 106,
     "metadata": {},
     "output_type": "execute_result"
    }
   ],
   "source": [
    "df=pd.read_csv(\"../output/FINAL/dataset.out.60.csv\")\n",
    "df.query('uuid==\"fec8ed36-230c-470a-b89d-983d380a9bc6\"')"
   ]
  },
  {
   "cell_type": "code",
   "execution_count": 112,
   "id": "1c2b8b4f",
   "metadata": {},
   "outputs": [],
   "source": [
    "Xtrain = df.query('dataset==\"Train\"').drop(columns=[\"uuid\",\"cancer_type\",\"dataset\"])\n",
    "ytrain = df.query('dataset==\"Train\"')[\"cancer_type\"]\n",
    "\n",
    "Xvalidation = df.query('dataset==\"Validation\"').drop(columns=[\"uuid\",\"cancer_type\",\"dataset\"])\n",
    "yvalidation = df.query('dataset==\"Validation\"')[\"cancer_type\"]"
   ]
  },
  {
   "cell_type": "code",
   "execution_count": 65,
   "id": "fcdc2a0b",
   "metadata": {},
   "outputs": [
    {
     "ename": "TypeError",
     "evalue": "MinMaxScaler.fit() missing 1 required positional argument: 'X'",
     "output_type": "error",
     "traceback": [
      "\u001b[0;31m---------------------------------------------------------------------------\u001b[0m",
      "\u001b[0;31mTypeError\u001b[0m                                 Traceback (most recent call last)",
      "Cell \u001b[0;32mIn[65], line 5\u001b[0m\n\u001b[1;32m      3\u001b[0m \u001b[38;5;28;01mfor\u001b[39;00m nn \u001b[38;5;129;01min\u001b[39;00m \u001b[38;5;28mrange\u001b[39m(\u001b[38;5;241m1\u001b[39m,\u001b[38;5;241m200\u001b[39m,\u001b[38;5;241m5\u001b[39m):\n\u001b[1;32m      4\u001b[0m     mm \u001b[38;5;241m=\u001b[39m MinMaxScaler()\n\u001b[0;32m----> 5\u001b[0m     mm\u001b[38;5;241m.\u001b[39mfit()\n\u001b[1;32m      6\u001b[0m     knn\u001b[38;5;241m=\u001b[39mKNeighborsClassifier(n_neighbors\u001b[38;5;241m=\u001b[39mnn)\n\u001b[1;32m      7\u001b[0m     knn\u001b[38;5;241m.\u001b[39mfit(Xtrain, ytrain)\n",
      "\u001b[0;31mTypeError\u001b[0m: MinMaxScaler.fit() missing 1 required positional argument: 'X'"
     ]
    }
   ],
   "source": [
    "nns=[]\n",
    "scores=[]\n",
    "for nn in range(1,200,5):\n",
    "    mm = MinMaxScaler()\n",
    "    mm.fit()\n",
    "    knn=KNeighborsClassifier(n_neighbors=nn)\n",
    "    knn.fit(Xtrain, ytrain)\n",
    "    nns.append(nn)\n",
    "    scores.append(knn.score(Xvalidation, yvalidation))"
   ]
  },
  {
   "cell_type": "code",
   "execution_count": 66,
   "id": "8abf1026",
   "metadata": {},
   "outputs": [],
   "source": [
    "import matplotlib.pyplot as plt"
   ]
  },
  {
   "cell_type": "code",
   "execution_count": 67,
   "id": "42a2ac4d",
   "metadata": {},
   "outputs": [
    {
     "data": {
      "text/plain": [
       "[<matplotlib.lines.Line2D at 0x7f1eac1b8d10>]"
      ]
     },
     "execution_count": 67,
     "metadata": {},
     "output_type": "execute_result"
    },
    {
     "data": {
      "image/png": "[encoded data removed]",
      "text/plain": [
       "<Figure size 640x480 with 1 Axes>"
      ]
     },
     "metadata": {},
     "output_type": "display_data"
    }
   ],
   "source": [
    "plt.plot(nns, scores)"
   ]
  },
  {
   "cell_type": "code",
   "execution_count": 68,
   "id": "4c37e917",
   "metadata": {},
   "outputs": [
    {
     "data": {
      "text/plain": [
       "8798"
      ]
     },
     "execution_count": 68,
     "metadata": {},
     "output_type": "execute_result"
    }
   ],
   "source": [
    "len(df)"
   ]
  },
  {
   "cell_type": "code",
   "execution_count": 69,
   "id": "eea86078",
   "metadata": {},
   "outputs": [
    {
     "data": {
      "text/plain": [
       "(8798, 23)"
      ]
     },
     "execution_count": 69,
     "metadata": {},
     "output_type": "execute_result"
    }
   ],
   "source": [
    "df.shape"
   ]
  },
  {
   "cell_type": "code",
   "execution_count": 70,
   "id": "0a37b0ca",
   "metadata": {},
   "outputs": [],
   "source": [
    "model = LogisticRegression(max_iter=10000)"
   ]
  },
  {
   "cell_type": "code",
   "execution_count": 71,
   "id": "07484906",
   "metadata": {},
   "outputs": [
    {
     "data": {
      "text/html": [
       "<style>#sk-container-id-11 {color: black;}#sk-container-id-11 pre{padding: 0;}#sk-container-id-11 div.sk-toggleable {background-color: white;}#sk-container-id-11 label.sk-toggleable__label {cursor: pointer;display: block;width: 100%;margin-bottom: 0;padding: 0.3em;box-sizing: border-box;text-align: center;}#sk-container-id-11 label.sk-toggleable__label-arrow:before {content: \"▸\";float: left;margin-right: 0.25em;color: #696969;}#sk-container-id-11 label.sk-toggleable__label-arrow:hover:before {color: black;}#sk-container-id-11 div.sk-estimator:hover label.sk-toggleable__label-arrow:before {color: black;}#sk-container-id-11 div.sk-toggleable__content {max-height: 0;max-width: 0;overflow: hidden;text-align: left;background-color: #f0f8ff;}#sk-container-id-11 div.sk-toggleable__content pre {margin: 0.2em;color: black;border-radius: 0.25em;background-color: #f0f8ff;}#sk-container-id-11 input.sk-toggleable__control:checked~div.sk-toggleable__content {max-height: 200px;max-width: 100%;overflow: auto;}#sk-container-id-11 input.sk-toggleable__control:checked~label.sk-toggleable__label-arrow:before {content: \"▾\";}#sk-container-id-11 div.sk-estimator input.sk-toggleable__control:checked~label.sk-toggleable__label {background-color: #d4ebff;}#sk-container-id-11 div.sk-label input.sk-toggleable__control:checked~label.sk-toggleable__label {background-color: #d4ebff;}#sk-container-id-11 input.sk-hidden--visually {border: 0;clip: rect(1px 1px 1px 1px);clip: rect(1px, 1px, 1px, 1px);height: 1px;margin: -1px;overflow: hidden;padding: 0;position: absolute;width: 1px;}#sk-container-id-11 div.sk-estimator {font-family: monospace;background-color: #f0f8ff;border: 1px dotted black;border-radius: 0.25em;box-sizing: border-box;margin-bottom: 0.5em;}#sk-container-id-11 div.sk-estimator:hover {background-color: #d4ebff;}#sk-container-id-11 div.sk-parallel-item::after {content: \"\";width: 100%;border-bottom: 1px solid gray;flex-grow: 1;}#sk-container-id-11 div.sk-label:hover label.sk-toggleable__label {background-color: #d4ebff;}#sk-container-id-11 div.sk-serial::before {content: \"\";position: absolute;border-left: 1px solid gray;box-sizing: border-box;top: 0;bottom: 0;left: 50%;z-index: 0;}#sk-container-id-11 div.sk-serial {display: flex;flex-direction: column;align-items: center;background-color: white;padding-right: 0.2em;padding-left: 0.2em;position: relative;}#sk-container-id-11 div.sk-item {position: relative;z-index: 1;}#sk-container-id-11 div.sk-parallel {display: flex;align-items: stretch;justify-content: center;background-color: white;position: relative;}#sk-container-id-11 div.sk-item::before, #sk-container-id-11 div.sk-parallel-item::before {content: \"\";position: absolute;border-left: 1px solid gray;box-sizing: border-box;top: 0;bottom: 0;left: 50%;z-index: -1;}#sk-container-id-11 div.sk-parallel-item {display: flex;flex-direction: column;z-index: 1;position: relative;background-color: white;}#sk-container-id-11 div.sk-parallel-item:first-child::after {align-self: flex-end;width: 50%;}#sk-container-id-11 div.sk-parallel-item:last-child::after {align-self: flex-start;width: 50%;}#sk-container-id-11 div.sk-parallel-item:only-child::after {width: 0;}#sk-container-id-11 div.sk-dashed-wrapped {border: 1px dashed gray;margin: 0 0.4em 0.5em 0.4em;box-sizing: border-box;padding-bottom: 0.4em;background-color: white;}#sk-container-id-11 div.sk-label label {font-family: monospace;font-weight: bold;display: inline-block;line-height: 1.2em;}#sk-container-id-11 div.sk-label-container {text-align: center;}#sk-container-id-11 div.sk-container {/* jupyter's `normalize.less` sets `[hidden] { display: none; }` but bootstrap.min.css set `[hidden] { display: none !important; }` so we also need the `!important` here to be able to override the default hidden behavior on the sphinx rendered scikit-learn.org. See: https://github.com/scikit-learn/scikit-learn/issues/21755 */display: inline-block !important;position: relative;}#sk-container-id-11 div.sk-text-repr-fallback {display: none;}</style><div id=\"sk-container-id-11\" class=\"sk-top-container\"><div class=\"sk-text-repr-fallback\"><pre>LogisticRegression(max_iter=10000)</pre><b>In a Jupyter environment, please rerun this cell to show the HTML representation or trust the notebook. <br />On GitHub, the HTML representation is unable to render, please try loading this page with nbviewer.org.</b></div><div class=\"sk-container\" hidden><div class=\"sk-item\"><div class=\"sk-estimator sk-toggleable\"><input class=\"sk-toggleable__control sk-hidden--visually\" id=\"sk-estimator-id-11\" type=\"checkbox\" checked><label for=\"sk-estimator-id-11\" class=\"sk-toggleable__label sk-toggleable__label-arrow\">LogisticRegression</label><div class=\"sk-toggleable__content\"><pre>LogisticRegression(max_iter=10000)</pre></div></div></div></div></div>"
      ],
      "text/plain": [
       "LogisticRegression(max_iter=10000)"
      ]
     },
     "execution_count": 71,
     "metadata": {},
     "output_type": "execute_result"
    }
   ],
   "source": [
    "model.fit(Xtrain, ytrain)"
   ]
  },
  {
   "cell_type": "code",
   "execution_count": 72,
   "id": "92a5b151",
   "metadata": {},
   "outputs": [],
   "source": [
    "preds = model.predict(Xvalidation)"
   ]
  },
  {
   "cell_type": "code",
   "execution_count": 98,
   "id": "b0d0aecf",
   "metadata": {},
   "outputs": [
    {
     "data": {
      "text/plain": [
       "0.08610400682011936"
      ]
     },
     "execution_count": 98,
     "metadata": {},
     "output_type": "execute_result"
    }
   ],
   "source": [
    "accuracy_score(preds, ytrain)"
   ]
  },
  {
   "cell_type": "code",
   "execution_count": 107,
   "id": "c3b65821",
   "metadata": {},
   "outputs": [],
   "source": [
    "import pickle"
   ]
  },
  {
   "cell_type": "code",
   "execution_count": 108,
   "id": "5fd4c2f1",
   "metadata": {},
   "outputs": [],
   "source": [
    "with open(\"../output/FINAL/logreg.60.pickle\", \"rb\")as f:\n",
    "    logreg = pickle.load(f)\n",
    "with open(\"../output/FINAL/mm.60.pickle\", \"rb\")as f:\n",
    "    mm = pickle.load(f)"
   ]
  },
  {
   "cell_type": "code",
   "execution_count": 118,
   "id": "ae7b397f",
   "metadata": {},
   "outputs": [],
   "source": [
    "df_out=  df.assign(pred = logreg.predict(mm.transform(df.drop(columns=[\"uuid\",\"cancer_type\",\"dataset\"]))))"
   ]
  },
  {
   "cell_type": "code",
   "execution_count": 120,
   "id": "722724d0",
   "metadata": {},
   "outputs": [
    {
     "data": {
      "text/plain": [
       "0.08610400682011936"
      ]
     },
     "execution_count": 120,
     "metadata": {},
     "output_type": "execute_result"
    }
   ],
   "source": [
    "accuracy_score(df_out[df_out.dataset==\"Train\"].pred, df_out[df_out.dataset==\"Train\"].cancer_type)"
   ]
  },
  {
   "cell_type": "code",
   "execution_count": 123,
   "id": "6376388a",
   "metadata": {},
   "outputs": [
    {
     "data": {
      "text/plain": [
       "array(['bladder', 'brain', 'breast', 'colon', 'corpus_uteri', 'kidney',\n",
       "       'liver', 'lung', 'ovary', 'pancreas', 'prostate-gland', 'skin',\n",
       "       'stomach', 'thyroid_gland'], dtype=object)"
      ]
     },
     "execution_count": 123,
     "metadata": {},
     "output_type": "execute_result"
    }
   ],
   "source": [
    "logreg.classes_"
   ]
  },
  {
   "cell_type": "code",
   "execution_count": null,
   "id": "9a2141d8",
   "metadata": {},
   "outputs": [],
   "source": []
  }
 ],
 "metadata": {
  "kernelspec": {
   "display_name": "Python 3 (ipykernel)",
   "language": "python",
   "name": "python3"
  },
  "language_info": {
   "codemirror_mode": {
    "name": "ipython",
    "version": 3
   },
   "file_extension": ".py",
   "mimetype": "text/x-python",
   "name": "python",
   "nbconvert_exporter": "python",
   "pygments_lexer": "ipython3",
   "version": "3.11.3"
  }
 },
 "nbformat": 4,
 "nbformat_minor": 5
}
