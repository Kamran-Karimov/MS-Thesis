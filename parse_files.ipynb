{
 "cells": [
  {
   "cell_type": "code",
   "execution_count": 2,
   "id": "8588025e-6448-43fe-bd6f-67b247fd2428",
   "metadata": {},
   "outputs": [],
   "source": [
    "import pandas as pd\n",
    "from tqdm.notebook import tqdm"
   ]
  },
  {
   "cell_type": "code",
   "execution_count": 3,
   "id": "40012b3b-7400-4a8a-be2c-2898fcd4a8ea",
   "metadata": {},
   "outputs": [],
   "source": [
    "import os\n",
    "rootdir = os.path.abspath(\"..\")"
   ]
  },
  {
   "cell_type": "code",
   "execution_count": 4,
   "id": "a6ad00ac-0fcd-48ac-b01d-b6f5169fbd63",
   "metadata": {},
   "outputs": [],
   "source": [
    "def read_uuid(rootdir, cancer_type, uuid):\n",
    "    try:\n",
    "        return (\n",
    "            pd\n",
    "            .read_csv(os.path.join(rootdir, \"data\", cancer_type, uuid, \n",
    "                                    next(filter( lambda s : s.endswith(\"tsv\"),os.listdir(os.path.join(rootdir, \"data\", cancer_type, uuid)) ))\n",
    "                                   ),  sep=\"\\t\", skiprows=[0,2,3,4,5])\n",
    "            [['gene_name', \"gene_type\", 'unstranded', 'stranded_first', 'stranded_second', 'tpm_unstranded','fpkm_unstranded','fpkm_uq_unstranded']]\n",
    "            .assign(uuid = uuid, cancer_type = cancer_type)\n",
    "        )\n",
    "    except Exception as e:\n",
    "        print(f\"Exception occured for {uuid}\\n{e}\")"
   ]
  },
  {
   "cell_type": "code",
   "execution_count": 5,
   "id": "eb3a2b35-02d7-4d6e-ad96-205f4cdbb914",
   "metadata": {},
   "outputs": [
    {
     "data": {
      "application/vnd.jupyter.widget-view+json": {
       "model_id": "4e70138b1fb04baa8434f10bdf20dc71",
       "version_major": 2,
       "version_minor": 0
      },
      "text/plain": [
       "  0%|          | 0/431 [00:00<?, ?it/s]"
      ]
     },
     "metadata": {},
     "output_type": "display_data"
    },
    {
     "data": {
      "application/vnd.jupyter.widget-view+json": {
       "model_id": "73b7ca69e7c34e6f8b1cd16875ac28d3",
       "version_major": 2,
       "version_minor": 0
      },
      "text/plain": [
       "  0%|          | 0/473 [00:00<?, ?it/s]"
      ]
     },
     "metadata": {},
     "output_type": "display_data"
    }
   ],
   "source": [
    "df_list = []\n",
    "for cancer_type in ['bladder', 'skin']:\n",
    "    uuids = os.listdir(os.path.join(rootdir, \"data\", cancer_type))\n",
    "    df = pd.concat([read_uuid(rootdir, cancer_type, uuid) for uuid in tqdm(uuids)])\n",
    "    df_pivot = (\n",
    "        df\n",
    "        .query(f\"gene_type=='transcribed_processed_pseudogene'\")\n",
    "        .pivot_table(index=['cancer_type','uuid'], columns = 'gene_name', \n",
    "                     values=['unstranded','stranded_first','stranded_second','tpm_unstranded','fpkm_unstranded','fpkm_uq_unstranded'])\n",
    "    )\n",
    "    df_pivot = df_pivot.reset_index()\n",
    "    df_list.append(df_pivot)"
   ]
  },
  {
   "cell_type": "code",
   "execution_count": 7,
   "id": "89108cd0-ee87-487f-aed8-a6b3ec86e985",
   "metadata": {},
   "outputs": [],
   "source": [
    "data = pd.concat(df_list)"
   ]
  },
  {
   "cell_type": "code",
   "execution_count": 8,
   "id": "9038339f-c911-4446-826e-bb61e96afbf2",
   "metadata": {},
   "outputs": [
    {
     "data": {
      "text/html": [
       "<div>\n",
       "<style scoped>\n",
       "    .dataframe tbody tr th:only-of-type {\n",
       "        vertical-align: middle;\n",
       "    }\n",
       "\n",
       "    .dataframe tbody tr th {\n",
       "        vertical-align: top;\n",
       "    }\n",
       "\n",
       "    .dataframe thead tr th {\n",
       "        text-align: left;\n",
       "    }\n",
       "</style>\n",
       "<table border=\"1\" class=\"dataframe\">\n",
       "  <thead>\n",
       "    <tr>\n",
       "      <th></th>\n",
       "      <th>cancer_type</th>\n",
       "      <th>uuid</th>\n",
       "      <th colspan=\"8\" halign=\"left\">fpkm_unstranded</th>\n",
       "      <th>...</th>\n",
       "      <th colspan=\"10\" halign=\"left\">unstranded</th>\n",
       "    </tr>\n",
       "    <tr>\n",
       "      <th>gene_name</th>\n",
       "      <th></th>\n",
       "      <th></th>\n",
       "      <th>ABCA11P</th>\n",
       "      <th>AC002519.2</th>\n",
       "      <th>AC004057.1</th>\n",
       "      <th>AC004801.2</th>\n",
       "      <th>AC005154.2</th>\n",
       "      <th>AC005230.1</th>\n",
       "      <th>AC005363.1</th>\n",
       "      <th>AC005410.1</th>\n",
       "      <th>...</th>\n",
       "      <th>ZEB2P1</th>\n",
       "      <th>ZNF259P1</th>\n",
       "      <th>ZNF321P</th>\n",
       "      <th>ZNF37BP</th>\n",
       "      <th>ZNF702P</th>\n",
       "      <th>ZNF736P9Y</th>\n",
       "      <th>ZNF971P</th>\n",
       "      <th>ZNRF2P1</th>\n",
       "      <th>ZNRF2P2</th>\n",
       "      <th>ZRSR2P1</th>\n",
       "    </tr>\n",
       "  </thead>\n",
       "  <tbody>\n",
       "    <tr>\n",
       "      <th>0</th>\n",
       "      <td>bladder</td>\n",
       "      <td>0180b8ef-dbca-4edd-bce1-3f793f354f13</td>\n",
       "      <td>0.1804</td>\n",
       "      <td>0.0000</td>\n",
       "      <td>0.2527</td>\n",
       "      <td>0.7431</td>\n",
       "      <td>0.1084</td>\n",
       "      <td>0.0</td>\n",
       "      <td>0.0</td>\n",
       "      <td>0.0000</td>\n",
       "      <td>...</td>\n",
       "      <td>0</td>\n",
       "      <td>2</td>\n",
       "      <td>33</td>\n",
       "      <td>706</td>\n",
       "      <td>16</td>\n",
       "      <td>0</td>\n",
       "      <td>0</td>\n",
       "      <td>19</td>\n",
       "      <td>2</td>\n",
       "      <td>0</td>\n",
       "    </tr>\n",
       "    <tr>\n",
       "      <th>1</th>\n",
       "      <td>bladder</td>\n",
       "      <td>01d381c7-6398-47cb-925c-078cd538852f</td>\n",
       "      <td>0.3439</td>\n",
       "      <td>0.0387</td>\n",
       "      <td>0.0000</td>\n",
       "      <td>0.2173</td>\n",
       "      <td>0.2228</td>\n",
       "      <td>0.0</td>\n",
       "      <td>0.0</td>\n",
       "      <td>0.0000</td>\n",
       "      <td>...</td>\n",
       "      <td>0</td>\n",
       "      <td>5</td>\n",
       "      <td>283</td>\n",
       "      <td>391</td>\n",
       "      <td>615</td>\n",
       "      <td>4</td>\n",
       "      <td>0</td>\n",
       "      <td>18</td>\n",
       "      <td>2</td>\n",
       "      <td>0</td>\n",
       "    </tr>\n",
       "    <tr>\n",
       "      <th>2</th>\n",
       "      <td>bladder</td>\n",
       "      <td>0240ae8f-9354-4123-b791-5333317ae9f0</td>\n",
       "      <td>0.8317</td>\n",
       "      <td>0.0000</td>\n",
       "      <td>0.0524</td>\n",
       "      <td>1.2718</td>\n",
       "      <td>0.5615</td>\n",
       "      <td>0.0</td>\n",
       "      <td>0.0</td>\n",
       "      <td>0.0000</td>\n",
       "      <td>...</td>\n",
       "      <td>4</td>\n",
       "      <td>0</td>\n",
       "      <td>530</td>\n",
       "      <td>779</td>\n",
       "      <td>558</td>\n",
       "      <td>0</td>\n",
       "      <td>0</td>\n",
       "      <td>35</td>\n",
       "      <td>7</td>\n",
       "      <td>0</td>\n",
       "    </tr>\n",
       "    <tr>\n",
       "      <th>3</th>\n",
       "      <td>bladder</td>\n",
       "      <td>047dc5b6-c15e-4dad-b753-de55ca6e171c</td>\n",
       "      <td>0.0970</td>\n",
       "      <td>0.0000</td>\n",
       "      <td>0.1630</td>\n",
       "      <td>0.7296</td>\n",
       "      <td>0.0972</td>\n",
       "      <td>0.0</td>\n",
       "      <td>0.0</td>\n",
       "      <td>0.0271</td>\n",
       "      <td>...</td>\n",
       "      <td>0</td>\n",
       "      <td>3</td>\n",
       "      <td>15</td>\n",
       "      <td>295</td>\n",
       "      <td>194</td>\n",
       "      <td>5</td>\n",
       "      <td>0</td>\n",
       "      <td>21</td>\n",
       "      <td>3</td>\n",
       "      <td>0</td>\n",
       "    </tr>\n",
       "    <tr>\n",
       "      <th>4</th>\n",
       "      <td>bladder</td>\n",
       "      <td>048da4d7-cab0-49c5-8bc9-78b1bf0b365b</td>\n",
       "      <td>0.3345</td>\n",
       "      <td>0.0000</td>\n",
       "      <td>0.1249</td>\n",
       "      <td>1.1182</td>\n",
       "      <td>0.0893</td>\n",
       "      <td>0.0</td>\n",
       "      <td>0.0</td>\n",
       "      <td>0.0000</td>\n",
       "      <td>...</td>\n",
       "      <td>0</td>\n",
       "      <td>0</td>\n",
       "      <td>157</td>\n",
       "      <td>319</td>\n",
       "      <td>245</td>\n",
       "      <td>0</td>\n",
       "      <td>0</td>\n",
       "      <td>16</td>\n",
       "      <td>1</td>\n",
       "      <td>0</td>\n",
       "    </tr>\n",
       "    <tr>\n",
       "      <th>...</th>\n",
       "      <td>...</td>\n",
       "      <td>...</td>\n",
       "      <td>...</td>\n",
       "      <td>...</td>\n",
       "      <td>...</td>\n",
       "      <td>...</td>\n",
       "      <td>...</td>\n",
       "      <td>...</td>\n",
       "      <td>...</td>\n",
       "      <td>...</td>\n",
       "      <td>...</td>\n",
       "      <td>...</td>\n",
       "      <td>...</td>\n",
       "      <td>...</td>\n",
       "      <td>...</td>\n",
       "      <td>...</td>\n",
       "      <td>...</td>\n",
       "      <td>...</td>\n",
       "      <td>...</td>\n",
       "      <td>...</td>\n",
       "      <td>...</td>\n",
       "    </tr>\n",
       "    <tr>\n",
       "      <th>468</th>\n",
       "      <td>skin</td>\n",
       "      <td>fe6f0138-1707-4c1c-980f-4711f7c04dec</td>\n",
       "      <td>0.4990</td>\n",
       "      <td>0.0000</td>\n",
       "      <td>0.0000</td>\n",
       "      <td>1.1630</td>\n",
       "      <td>0.2855</td>\n",
       "      <td>0.0</td>\n",
       "      <td>0.0</td>\n",
       "      <td>0.0221</td>\n",
       "      <td>...</td>\n",
       "      <td>4</td>\n",
       "      <td>0</td>\n",
       "      <td>11</td>\n",
       "      <td>1233</td>\n",
       "      <td>69</td>\n",
       "      <td>0</td>\n",
       "      <td>0</td>\n",
       "      <td>28</td>\n",
       "      <td>10</td>\n",
       "      <td>0</td>\n",
       "    </tr>\n",
       "    <tr>\n",
       "      <th>469</th>\n",
       "      <td>skin</td>\n",
       "      <td>fea970e9-b09c-439c-9b4c-da5f5331643a</td>\n",
       "      <td>0.1615</td>\n",
       "      <td>0.0458</td>\n",
       "      <td>0.1676</td>\n",
       "      <td>2.3140</td>\n",
       "      <td>0.8867</td>\n",
       "      <td>0.0</td>\n",
       "      <td>0.0</td>\n",
       "      <td>0.0167</td>\n",
       "      <td>...</td>\n",
       "      <td>3</td>\n",
       "      <td>3</td>\n",
       "      <td>0</td>\n",
       "      <td>930</td>\n",
       "      <td>4</td>\n",
       "      <td>0</td>\n",
       "      <td>0</td>\n",
       "      <td>78</td>\n",
       "      <td>10</td>\n",
       "      <td>0</td>\n",
       "    </tr>\n",
       "    <tr>\n",
       "      <th>470</th>\n",
       "      <td>skin</td>\n",
       "      <td>ff327399-14e8-4926-a7f9-27318dc5dd76</td>\n",
       "      <td>0.3972</td>\n",
       "      <td>0.0963</td>\n",
       "      <td>0.0627</td>\n",
       "      <td>1.3023</td>\n",
       "      <td>0.7955</td>\n",
       "      <td>0.0</td>\n",
       "      <td>0.0</td>\n",
       "      <td>0.0000</td>\n",
       "      <td>...</td>\n",
       "      <td>2</td>\n",
       "      <td>5</td>\n",
       "      <td>56</td>\n",
       "      <td>1222</td>\n",
       "      <td>36</td>\n",
       "      <td>17</td>\n",
       "      <td>0</td>\n",
       "      <td>162</td>\n",
       "      <td>46</td>\n",
       "      <td>0</td>\n",
       "    </tr>\n",
       "    <tr>\n",
       "      <th>471</th>\n",
       "      <td>skin</td>\n",
       "      <td>ffbf537e-4ff7-42dc-aa8a-386caed2d422</td>\n",
       "      <td>0.6178</td>\n",
       "      <td>0.0000</td>\n",
       "      <td>0.0911</td>\n",
       "      <td>1.5721</td>\n",
       "      <td>0.8629</td>\n",
       "      <td>0.0</td>\n",
       "      <td>0.0</td>\n",
       "      <td>0.0000</td>\n",
       "      <td>...</td>\n",
       "      <td>0</td>\n",
       "      <td>1</td>\n",
       "      <td>35</td>\n",
       "      <td>865</td>\n",
       "      <td>6</td>\n",
       "      <td>0</td>\n",
       "      <td>0</td>\n",
       "      <td>58</td>\n",
       "      <td>43</td>\n",
       "      <td>0</td>\n",
       "    </tr>\n",
       "    <tr>\n",
       "      <th>472</th>\n",
       "      <td>skin</td>\n",
       "      <td>ffcf6ae1-5491-43cb-9b66-54addaa56362</td>\n",
       "      <td>0.0077</td>\n",
       "      <td>0.0146</td>\n",
       "      <td>0.1287</td>\n",
       "      <td>0.0822</td>\n",
       "      <td>0.0613</td>\n",
       "      <td>0.0</td>\n",
       "      <td>0.0</td>\n",
       "      <td>0.0000</td>\n",
       "      <td>...</td>\n",
       "      <td>0</td>\n",
       "      <td>1</td>\n",
       "      <td>0</td>\n",
       "      <td>41</td>\n",
       "      <td>0</td>\n",
       "      <td>0</td>\n",
       "      <td>0</td>\n",
       "      <td>16</td>\n",
       "      <td>4</td>\n",
       "      <td>0</td>\n",
       "    </tr>\n",
       "  </tbody>\n",
       "</table>\n",
       "<p>904 rows × 3002 columns</p>\n",
       "</div>"
      ],
      "text/plain": [
       "          cancer_type                                  uuid fpkm_unstranded  \\\n",
       "gene_name                                                           ABCA11P   \n",
       "0             bladder  0180b8ef-dbca-4edd-bce1-3f793f354f13          0.1804   \n",
       "1             bladder  01d381c7-6398-47cb-925c-078cd538852f          0.3439   \n",
       "2             bladder  0240ae8f-9354-4123-b791-5333317ae9f0          0.8317   \n",
       "3             bladder  047dc5b6-c15e-4dad-b753-de55ca6e171c          0.0970   \n",
       "4             bladder  048da4d7-cab0-49c5-8bc9-78b1bf0b365b          0.3345   \n",
       "..                ...                                   ...             ...   \n",
       "468              skin  fe6f0138-1707-4c1c-980f-4711f7c04dec          0.4990   \n",
       "469              skin  fea970e9-b09c-439c-9b4c-da5f5331643a          0.1615   \n",
       "470              skin  ff327399-14e8-4926-a7f9-27318dc5dd76          0.3972   \n",
       "471              skin  ffbf537e-4ff7-42dc-aa8a-386caed2d422          0.6178   \n",
       "472              skin  ffcf6ae1-5491-43cb-9b66-54addaa56362          0.0077   \n",
       "\n",
       "                                                                             \\\n",
       "gene_name AC002519.2 AC004057.1 AC004801.2 AC005154.2 AC005230.1 AC005363.1   \n",
       "0             0.0000     0.2527     0.7431     0.1084        0.0        0.0   \n",
       "1             0.0387     0.0000     0.2173     0.2228        0.0        0.0   \n",
       "2             0.0000     0.0524     1.2718     0.5615        0.0        0.0   \n",
       "3             0.0000     0.1630     0.7296     0.0972        0.0        0.0   \n",
       "4             0.0000     0.1249     1.1182     0.0893        0.0        0.0   \n",
       "..               ...        ...        ...        ...        ...        ...   \n",
       "468           0.0000     0.0000     1.1630     0.2855        0.0        0.0   \n",
       "469           0.0458     0.1676     2.3140     0.8867        0.0        0.0   \n",
       "470           0.0963     0.0627     1.3023     0.7955        0.0        0.0   \n",
       "471           0.0000     0.0911     1.5721     0.8629        0.0        0.0   \n",
       "472           0.0146     0.1287     0.0822     0.0613        0.0        0.0   \n",
       "\n",
       "                      ... unstranded                                   \\\n",
       "gene_name AC005410.1  ...     ZEB2P1 ZNF259P1 ZNF321P ZNF37BP ZNF702P   \n",
       "0             0.0000  ...          0        2      33     706      16   \n",
       "1             0.0000  ...          0        5     283     391     615   \n",
       "2             0.0000  ...          4        0     530     779     558   \n",
       "3             0.0271  ...          0        3      15     295     194   \n",
       "4             0.0000  ...          0        0     157     319     245   \n",
       "..               ...  ...        ...      ...     ...     ...     ...   \n",
       "468           0.0221  ...          4        0      11    1233      69   \n",
       "469           0.0167  ...          3        3       0     930       4   \n",
       "470           0.0000  ...          2        5      56    1222      36   \n",
       "471           0.0000  ...          0        1      35     865       6   \n",
       "472           0.0000  ...          0        1       0      41       0   \n",
       "\n",
       "                                                     \n",
       "gene_name ZNF736P9Y ZNF971P ZNRF2P1 ZNRF2P2 ZRSR2P1  \n",
       "0                 0       0      19       2       0  \n",
       "1                 4       0      18       2       0  \n",
       "2                 0       0      35       7       0  \n",
       "3                 5       0      21       3       0  \n",
       "4                 0       0      16       1       0  \n",
       "..              ...     ...     ...     ...     ...  \n",
       "468               0       0      28      10       0  \n",
       "469               0       0      78      10       0  \n",
       "470              17       0     162      46       0  \n",
       "471               0       0      58      43       0  \n",
       "472               0       0      16       4       0  \n",
       "\n",
       "[904 rows x 3002 columns]"
      ]
     },
     "execution_count": 8,
     "metadata": {},
     "output_type": "execute_result"
    }
   ],
   "source": [
    "data"
   ]
  },
  {
   "cell_type": "code",
   "execution_count": 9,
   "id": "4f75b640-fe5a-4b60-b5d2-aaf766faeab0",
   "metadata": {},
   "outputs": [],
   "source": [
    "from sklearn.model_selection import train_test_split"
   ]
  },
  {
   "cell_type": "code",
   "execution_count": 10,
   "id": "fba65000-acec-42ba-bf56-5e9fde9f906f",
   "metadata": {},
   "outputs": [],
   "source": [
    "data_train, data_test = train_test_split(data, test_size=0.1)"
   ]
  },
  {
   "cell_type": "code",
   "execution_count": 11,
   "id": "3324dc60-7db9-411f-ae38-df7562e2ce52",
   "metadata": {},
   "outputs": [
    {
     "name": "stdout",
     "output_type": "stream",
     "text": [
      "cancer_type\n",
      "skin       423\n",
      "bladder    390\n",
      "Name: count, dtype: int64 -- cancer_type\n",
      "skin       50\n",
      "bladder    41\n",
      "Name: count, dtype: int64\n"
     ]
    }
   ],
   "source": [
    "print(\n",
    "    data_train.cancer_type.value_counts(),\n",
    "    \"--\",\n",
    "    data_test.cancer_type.value_counts()\n",
    ")"
   ]
  },
  {
   "cell_type": "code",
   "execution_count": 12,
   "id": "530ae70f-6f82-4cbc-950a-1c1aa5344e36",
   "metadata": {},
   "outputs": [],
   "source": [
    "ytrain = data_train[('cancer_type', '')]\n",
    "xtrain = data_train.drop(columns=[('cancer_type',''),('uuid','')])"
   ]
  },
  {
   "cell_type": "code",
   "execution_count": 13,
   "id": "f1ed26f6-b2e1-4c37-9fd1-fb6f8173472f",
   "metadata": {},
   "outputs": [],
   "source": [
    "from sklearn.linear_model import LogisticRegression\n",
    "from sklearn.decomposition import PCA\n",
    "import matplotlib.pyplot as plt\n",
    "import numpy as np"
   ]
  },
  {
   "cell_type": "code",
   "execution_count": 15,
   "id": "cc65ce3a-6992-46d5-9742-cf640e540eea",
   "metadata": {},
   "outputs": [],
   "source": [
    "pca=PCA()\n",
    "lr=LogisticRegression(max_iter=1000)"
   ]
  },
  {
   "cell_type": "code",
   "execution_count": 16,
   "id": "a65ef760-7efd-4a4b-9af9-a1e84d93ac73",
   "metadata": {},
   "outputs": [],
   "source": [
    "xtrain_pca = pca.fit_transform(xtrain)[:,:100]"
   ]
  },
  {
   "cell_type": "code",
   "execution_count": 17,
   "id": "2fe6e574-6afc-45dc-9eef-895994e87c83",
   "metadata": {},
   "outputs": [
    {
     "data": {
      "text/html": [
       "<style>#sk-container-id-1 {color: black;}#sk-container-id-1 pre{padding: 0;}#sk-container-id-1 div.sk-toggleable {background-color: white;}#sk-container-id-1 label.sk-toggleable__label {cursor: pointer;display: block;width: 100%;margin-bottom: 0;padding: 0.3em;box-sizing: border-box;text-align: center;}#sk-container-id-1 label.sk-toggleable__label-arrow:before {content: \"▸\";float: left;margin-right: 0.25em;color: #696969;}#sk-container-id-1 label.sk-toggleable__label-arrow:hover:before {color: black;}#sk-container-id-1 div.sk-estimator:hover label.sk-toggleable__label-arrow:before {color: black;}#sk-container-id-1 div.sk-toggleable__content {max-height: 0;max-width: 0;overflow: hidden;text-align: left;background-color: #f0f8ff;}#sk-container-id-1 div.sk-toggleable__content pre {margin: 0.2em;color: black;border-radius: 0.25em;background-color: #f0f8ff;}#sk-container-id-1 input.sk-toggleable__control:checked~div.sk-toggleable__content {max-height: 200px;max-width: 100%;overflow: auto;}#sk-container-id-1 input.sk-toggleable__control:checked~label.sk-toggleable__label-arrow:before {content: \"▾\";}#sk-container-id-1 div.sk-estimator input.sk-toggleable__control:checked~label.sk-toggleable__label {background-color: #d4ebff;}#sk-container-id-1 div.sk-label input.sk-toggleable__control:checked~label.sk-toggleable__label {background-color: #d4ebff;}#sk-container-id-1 input.sk-hidden--visually {border: 0;clip: rect(1px 1px 1px 1px);clip: rect(1px, 1px, 1px, 1px);height: 1px;margin: -1px;overflow: hidden;padding: 0;position: absolute;width: 1px;}#sk-container-id-1 div.sk-estimator {font-family: monospace;background-color: #f0f8ff;border: 1px dotted black;border-radius: 0.25em;box-sizing: border-box;margin-bottom: 0.5em;}#sk-container-id-1 div.sk-estimator:hover {background-color: #d4ebff;}#sk-container-id-1 div.sk-parallel-item::after {content: \"\";width: 100%;border-bottom: 1px solid gray;flex-grow: 1;}#sk-container-id-1 div.sk-label:hover label.sk-toggleable__label {background-color: #d4ebff;}#sk-container-id-1 div.sk-serial::before {content: \"\";position: absolute;border-left: 1px solid gray;box-sizing: border-box;top: 0;bottom: 0;left: 50%;z-index: 0;}#sk-container-id-1 div.sk-serial {display: flex;flex-direction: column;align-items: center;background-color: white;padding-right: 0.2em;padding-left: 0.2em;position: relative;}#sk-container-id-1 div.sk-item {position: relative;z-index: 1;}#sk-container-id-1 div.sk-parallel {display: flex;align-items: stretch;justify-content: center;background-color: white;position: relative;}#sk-container-id-1 div.sk-item::before, #sk-container-id-1 div.sk-parallel-item::before {content: \"\";position: absolute;border-left: 1px solid gray;box-sizing: border-box;top: 0;bottom: 0;left: 50%;z-index: -1;}#sk-container-id-1 div.sk-parallel-item {display: flex;flex-direction: column;z-index: 1;position: relative;background-color: white;}#sk-container-id-1 div.sk-parallel-item:first-child::after {align-self: flex-end;width: 50%;}#sk-container-id-1 div.sk-parallel-item:last-child::after {align-self: flex-start;width: 50%;}#sk-container-id-1 div.sk-parallel-item:only-child::after {width: 0;}#sk-container-id-1 div.sk-dashed-wrapped {border: 1px dashed gray;margin: 0 0.4em 0.5em 0.4em;box-sizing: border-box;padding-bottom: 0.4em;background-color: white;}#sk-container-id-1 div.sk-label label {font-family: monospace;font-weight: bold;display: inline-block;line-height: 1.2em;}#sk-container-id-1 div.sk-label-container {text-align: center;}#sk-container-id-1 div.sk-container {/* jupyter's `normalize.less` sets `[hidden] { display: none; }` but bootstrap.min.css set `[hidden] { display: none !important; }` so we also need the `!important` here to be able to override the default hidden behavior on the sphinx rendered scikit-learn.org. See: https://github.com/scikit-learn/scikit-learn/issues/21755 */display: inline-block !important;position: relative;}#sk-container-id-1 div.sk-text-repr-fallback {display: none;}</style><div id=\"sk-container-id-1\" class=\"sk-top-container\"><div class=\"sk-text-repr-fallback\"><pre>LogisticRegression(max_iter=1000)</pre><b>In a Jupyter environment, please rerun this cell to show the HTML representation or trust the notebook. <br />On GitHub, the HTML representation is unable to render, please try loading this page with nbviewer.org.</b></div><div class=\"sk-container\" hidden><div class=\"sk-item\"><div class=\"sk-estimator sk-toggleable\"><input class=\"sk-toggleable__control sk-hidden--visually\" id=\"sk-estimator-id-1\" type=\"checkbox\" checked><label for=\"sk-estimator-id-1\" class=\"sk-toggleable__label sk-toggleable__label-arrow\">LogisticRegression</label><div class=\"sk-toggleable__content\"><pre>LogisticRegression(max_iter=1000)</pre></div></div></div></div></div>"
      ],
      "text/plain": [
       "LogisticRegression(max_iter=1000)"
      ]
     },
     "execution_count": 17,
     "metadata": {},
     "output_type": "execute_result"
    }
   ],
   "source": [
    "lr.fit(xtrain_pca, ytrain)"
   ]
  },
  {
   "cell_type": "code",
   "execution_count": 18,
   "id": "1574086d-a0a3-42d1-b134-b548e66e8257",
   "metadata": {},
   "outputs": [
    {
     "data": {
      "text/plain": [
       "1.0"
      ]
     },
     "execution_count": 18,
     "metadata": {},
     "output_type": "execute_result"
    }
   ],
   "source": [
    "lr.score(xtrain_pca, ytrain)"
   ]
  },
  {
   "cell_type": "code",
   "execution_count": 19,
   "id": "c40e29fd-a32f-48c7-be5e-fae9eeb83f20",
   "metadata": {},
   "outputs": [],
   "source": [
    "ytest = data_test[('cancer_type', '')]\n",
    "xtest = data_test.drop(columns=[('cancer_type',''),('uuid','')])"
   ]
  },
  {
   "cell_type": "code",
   "execution_count": 20,
   "id": "8f7c8f42-2c78-421f-b1ea-ef0693ff6f02",
   "metadata": {},
   "outputs": [
    {
     "data": {
      "text/plain": [
       "0.978021978021978"
      ]
     },
     "execution_count": 20,
     "metadata": {},
     "output_type": "execute_result"
    }
   ],
   "source": [
    "xtest_pca = pca.transform(xtest)[:,:100]\n",
    "lr.score(xtest_pca, ytest)"
   ]
  },
  {
   "cell_type": "code",
   "execution_count": 21,
   "id": "7211cf4d-42f6-493b-befd-6ea7ee35c242",
   "metadata": {},
   "outputs": [
    {
     "data": {
      "text/plain": [
       "[<matplotlib.lines.Line2D at 0x7f5e6ef6c210>]"
      ]
     },
     "execution_count": 21,
     "metadata": {},
     "output_type": "execute_result"
    },
    {
     "data": {
      "image/png": "[encoded data removed]",
      "text/plain": [
       "<Figure size 640x480 with 1 Axes>"
      ]
     },
     "metadata": {},
     "output_type": "display_data"
    }
   ],
   "source": [
    "plt.plot(np.abs(lr.coef_.ravel()))"
   ]
  },
  {
   "cell_type": "code",
   "execution_count": null,
   "id": "3a4cc966-28a1-40f5-9db4-3b9ca409657e",
   "metadata": {},
   "outputs": [],
   "source": []
  }
 ],
 "metadata": {
  "kernelspec": {
   "display_name": "Python 3 (ipykernel)",
   "language": "python",
   "name": "python3"
  },
  "language_info": {
   "codemirror_mode": {
    "name": "ipython",
    "version": 3
   },
   "file_extension": ".py",
   "mimetype": "text/x-python",
   "name": "python",
   "nbconvert_exporter": "python",
   "pygments_lexer": "ipython3",
   "version": "3.12.4"
  }
 },
 "nbformat": 4,
 "nbformat_minor": 5
}
