{
 "cells": [
  {
   "cell_type": "code",
   "execution_count": 1,
   "id": "56d0f3b4",
   "metadata": {},
   "outputs": [
    {
     "ename": "ModuleNotFoundError",
     "evalue": "No module named 'torch'",
     "output_type": "error",
     "traceback": [
      "\u001b[1;31m---------------------------------------------------------------------------\u001b[0m",
      "\u001b[1;31mModuleNotFoundError\u001b[0m                       Traceback (most recent call last)",
      "Cell \u001b[1;32mIn[1], line 3\u001b[0m\n\u001b[0;32m      1\u001b[0m \u001b[38;5;28;01mimport\u001b[39;00m \u001b[38;5;21;01mpandas\u001b[39;00m \u001b[38;5;28;01mas\u001b[39;00m \u001b[38;5;21;01mpd\u001b[39;00m\n\u001b[0;32m      2\u001b[0m \u001b[38;5;28;01mimport\u001b[39;00m \u001b[38;5;21;01mml_utils\u001b[39;00m\n\u001b[1;32m----> 3\u001b[0m \u001b[38;5;28;01mimport\u001b[39;00m \u001b[38;5;21;01mtorch\u001b[39;00m\n\u001b[0;32m      4\u001b[0m \u001b[38;5;28;01mimport\u001b[39;00m \u001b[38;5;21;01mtorch\u001b[39;00m\u001b[38;5;21;01m.\u001b[39;00m\u001b[38;5;21;01mnn\u001b[39;00m\u001b[38;5;21;01m.\u001b[39;00m\u001b[38;5;21;01mfunctional\u001b[39;00m \u001b[38;5;28;01mas\u001b[39;00m \u001b[38;5;21;01mF\u001b[39;00m\n\u001b[0;32m      5\u001b[0m \u001b[38;5;28;01mfrom\u001b[39;00m \u001b[38;5;21;01mtorch\u001b[39;00m \u001b[38;5;28;01mimport\u001b[39;00m nn\n",
      "\u001b[1;31mModuleNotFoundError\u001b[0m: No module named 'torch'"
     ]
    }
   ],
   "source": [
    "import pandas as pd\n",
    "import ml_utils\n",
    "import torch\n",
    "import torch.nn.functional as F\n",
    "from torch import nn\n",
    "import torch.optim as optim\n",
    "from tqdm.notebook import tqdm"
   ]
  },
  {
   "cell_type": "code",
   "execution_count": null,
   "id": "88858e69",
   "metadata": {},
   "outputs": [],
   "source": [
    "df = pd.read_csv(\"../output/FINAL/dataset.pca.60.csv\")\n",
    "df = df.sample(frac=1, random_state=1)"
   ]
  },
  {
   "cell_type": "code",
   "execution_count": null,
   "id": "408eee97",
   "metadata": {},
   "outputs": [],
   "source": [
    "mm = ml_utils.build_minmax_scaler(df)"
   ]
  },
  {
   "cell_type": "code",
   "execution_count": null,
   "id": "db05465c",
   "metadata": {},
   "outputs": [],
   "source": [
    "xtrain = mm.transform(df.query('dataset==\"Train\"').drop(columns=['uuid', 'cancer_type', 'dataset']))\n",
    "ytrain = df.query('dataset==\"Train\"')['cancer_type']\n",
    "ytrain_one_hot = pd.get_dummies(ytrain)"
   ]
  },
  {
   "cell_type": "code",
   "execution_count": null,
   "id": "9c0ae738",
   "metadata": {},
   "outputs": [],
   "source": [
    "xvalidation = mm.transform(df.query('dataset==\"Validation\"').drop(columns=['uuid', 'cancer_type', 'dataset']))\n",
    "yvalidation = df.query('dataset==\"Validation\"')['cancer_type']\n",
    "yvalidation_one_hot = pd.get_dummies(yvalidation)"
   ]
  },
  {
   "cell_type": "markdown",
   "id": "b8e34d0b",
   "metadata": {},
   "source": [
    "## Random Forest"
   ]
  },
  {
   "cell_type": "code",
   "execution_count": null,
   "id": "c84a4e84",
   "metadata": {},
   "outputs": [],
   "source": [
    "from sklearn.ensemble import RandomForestClassifier"
   ]
  },
  {
   "cell_type": "code",
   "execution_count": null,
   "id": "5fa2e61e",
   "metadata": {},
   "outputs": [],
   "source": [
    "for depth in [5, 10]:\n",
    "    for ne in [100, 200, 300, 400, 500]:\n",
    "        model = RandomForestClassifier(max_depth=depth, n_estimators=ne)\n",
    "        model.fit(xtrain, ytrain)\n",
    "        print(depth, \"-\", ne, \"--\", model.score(xtrain, ytrain), model.score(xvalidation, yvalidation))"
   ]
  },
  {
   "cell_type": "code",
   "execution_count": null,
   "id": "6e6798b3",
   "metadata": {},
   "outputs": [],
   "source": []
  },
  {
   "cell_type": "code",
   "execution_count": null,
   "id": "88ba5431",
   "metadata": {},
   "outputs": [],
   "source": [
    "yvalidation"
   ]
  },
  {
   "cell_type": "markdown",
   "id": "d502ac20",
   "metadata": {},
   "source": [
    "## Neural Networks"
   ]
  },
  {
   "cell_type": "code",
   "execution_count": null,
   "id": "99935223",
   "metadata": {},
   "outputs": [],
   "source": [
    "class DNN(nn.Module):\n",
    "    \n",
    "    def __init__(self):\n",
    "        super(DNN, self).__init__()\n",
    "        self.layer1 = nn.Linear(60,20)\n",
    "        self.layer2 = nn.Linear(20,20)\n",
    "        self.layer3 = nn.Linear(20,14)\n",
    "        \n",
    "    def forward(self, xin):\n",
    "        x=xin\n",
    "        x = self.layer1(x)\n",
    "        x = F.relu(x)\n",
    "        x = self.layer2(x)\n",
    "        x = F.relu(x)\n",
    "        x = self.layer3(x)\n",
    "        x = F.softmax(x, dim=1)\n",
    "        return x"
   ]
  },
  {
   "cell_type": "code",
   "execution_count": null,
   "id": "050b4dd7",
   "metadata": {},
   "outputs": [],
   "source": [
    "dnn = DNN()\n",
    "loss_fn = nn.CrossEntropyLoss()"
   ]
  },
  {
   "cell_type": "code",
   "execution_count": null,
   "id": "7d7dabcd",
   "metadata": {},
   "outputs": [],
   "source": [
    "n_epochs = 100\n",
    "batch_size = 64\n",
    "learning_rate = 0.000001\n",
    "optimizer = optim.Adam(dnn.parameters(), lr=learning_rate)\n",
    "\n",
    "train_losses = []\n",
    "validation_losses = []\n",
    "\n",
    "for i_epoch in tqdm(range(n_epochs)):\n",
    "    for i in tqdm(range(len(xtrain))):\n",
    "        optimizer.zero_grad()\n",
    "        xbatch = torch.from_numpy(xtrain[i:i+batch_size]).float()\n",
    "        ybatch = torch.from_numpy(ytrain_one_hot[i:i+batch_size].values).float()\n",
    "        ypred = dnn(xbatch)\n",
    "        loss = loss_fn(ypred, ybatch)\n",
    "        loss.backward()\n",
    "        optimizer.step()\n",
    "    ypred = dnn(torch.from_numpy(xtrain).float() )\n",
    "    train_loss = loss_fn(ypred, torch.from_numpy(ytrain_one_hot.astype(float).values)).detach().numpy()\n",
    "    train_losses.append(train_loss)\n",
    "    ypred = dnn(torch.from_numpy(xvalidation).float() )\n",
    "    val_loss = loss_fn(ypred, torch.from_numpy(yvalidation_one_hot.astype(float).values)).detach().numpy()\n",
    "    validation_losses.append(val_loss)"
   ]
  },
  {
   "cell_type": "code",
   "execution_count": null,
   "id": "0f640124",
   "metadata": {},
   "outputs": [],
   "source": [
    "import matplotlib.pyplot as plt\n",
    "plt.plot(train_losses)\n",
    "plt.plot(validation_losses, \"--\")"
   ]
  },
  {
   "cell_type": "code",
   "execution_count": null,
   "id": "12eafc07",
   "metadata": {},
   "outputs": [],
   "source": [
    "predclasses = dnn(torch.from_numpy(xtrain).float()).argmax(dim=1)"
   ]
  },
  {
   "cell_type": "code",
   "execution_count": null,
   "id": "61e9c641",
   "metadata": {},
   "outputs": [],
   "source": [
    "predictions = pd.Series(ytrain_one_hot.columns[predclasses])"
   ]
  },
  {
   "cell_type": "code",
   "execution_count": null,
   "id": "a6ca0725",
   "metadata": {},
   "outputs": [],
   "source": [
    "from sklearn.metrics import accuracy_score"
   ]
  },
  {
   "cell_type": "code",
   "execution_count": null,
   "id": "cfc22833",
   "metadata": {},
   "outputs": [],
   "source": [
    "accuracy_score(predictions, ytrain)"
   ]
  },
  {
   "cell_type": "code",
   "execution_count": null,
   "id": "cdde2d92",
   "metadata": {},
   "outputs": [],
   "source": [
    "dftrain=df.query('dataset==\"Train\"')\n",
    "dftrain"
   ]
  },
  {
   "cell_type": "code",
   "execution_count": null,
   "id": "a1f28ee6",
   "metadata": {},
   "outputs": [],
   "source": [
    "import seaborn as sns"
   ]
  },
  {
   "cell_type": "code",
   "execution_count": null,
   "id": "2b326c7f",
   "metadata": {},
   "outputs": [],
   "source": [
    "sns.scatterplot(\n",
    "    data=dftrain,\n",
    "    x='pca_1',\n",
    "    y='pca_2',\n",
    "    hue='cancer_type'\n",
    ")"
   ]
  },
  {
   "cell_type": "code",
   "execution_count": null,
   "id": "f2802104",
   "metadata": {},
   "outputs": [],
   "source": []
  }
 ],
 "metadata": {
  "kernelspec": {
   "display_name": "Python 3 (ipykernel)",
   "language": "python",
   "name": "python3"
  },
  "language_info": {
   "codemirror_mode": {
    "name": "ipython",
    "version": 3
   },
   "file_extension": ".py",
   "mimetype": "text/x-python",
   "name": "python",
   "nbconvert_exporter": "python",
   "pygments_lexer": "ipython3",
   "version": "3.12.4"
  }
 },
 "nbformat": 4,
 "nbformat_minor": 5
}
