{
 "cells": [
  {
   "cell_type": "code",
   "execution_count": 1,
   "id": "06c4deeb",
   "metadata": {},
   "outputs": [],
   "source": [
    "%load_ext autoreload\n",
    "%autoreload 2"
   ]
  },
  {
   "cell_type": "code",
   "execution_count": 2,
   "id": "a4441b90-67e9-47c9-baee-22bdf920e8b3",
   "metadata": {},
   "outputs": [],
   "source": [
    "import pandas as pd\n",
    "import numpy as np\n",
    "from sklearn.model_selection import train_test_split\n",
    "from sklearn.linear_model import LogisticRegression\n",
    "from sklearn.decomposition import PCA\n",
    "\n",
    "import os\n",
    "import random\n",
    "import pickle\n",
    "from tqdm.notebook import tqdm"
   ]
  },
  {
   "cell_type": "code",
   "execution_count": 3,
   "id": "85f5a5e7-d5bc-4222-a85c-ddefc3a9d216",
   "metadata": {},
   "outputs": [],
   "source": [
    "uuid_train,uuid_val,uuid_test=None,None,None"
   ]
  },
  {
   "cell_type": "code",
   "execution_count": 4,
   "id": "81832255-decb-4f1a-801b-80973a4d20c0",
   "metadata": {},
   "outputs": [],
   "source": [
    "def read_uuid(rootdir, cancer_type, uuid):\n",
    "    \"\"\"Reads a case file into DataFrame, appends UUID and cancer type as column\n",
    "    \"\"\"\n",
    "    try:\n",
    "        return (\n",
    "            pd\n",
    "            .read_csv(os.path.join(\"..\", \"data\", cancer_type, uuid, \n",
    "                                    next(filter( lambda s : s.endswith(\"tsv\"),os.listdir(os.path.join(rootdir, \"data\", cancer_type, uuid)) ))\n",
    "                                   ),  sep=\"\\t\", skiprows=[0,2,3,4,5])\n",
    "            [['gene_name', \"gene_type\", 'unstranded', 'stranded_first', 'stranded_second', 'tpm_unstranded','fpkm_unstranded','fpkm_uq_unstranded']]\n",
    "            .assign(uuid = uuid, cancer_type = cancer_type)\n",
    "        )\n",
    "    except Exception as e:\n",
    "        print(f\"Exception occured for {uuid}\\n{e}\")"
   ]
  },
  {
   "cell_type": "code",
   "execution_count": 5,
   "id": "20f2756e-1bef-46c4-a2bd-fe535910553a",
   "metadata": {},
   "outputs": [],
   "source": [
    "def load_all_cases(cancer_type, gene_type):\n",
    "    uuids = os.listdir(os.path.join(\"..\", \"data\", cancer_type))\n",
    "    df = (\n",
    "        pd\n",
    "        .concat([read_uuid(\"..\", cancer_type, uuid) for uuid in tqdm(uuids)])\n",
    "        .query(f\"gene_type=='{gene_type}'\")\n",
    "        .pivot_table(\n",
    "          index=['cancer_type','uuid'], \n",
    "          columns = 'gene_name', \n",
    "          values= ['tpm_unstranded'] # ['unstranded','stranded_first','stranded_second','tpm_unstranded','fpkm_unstranded','fpkm_uq_unstranded'])\n",
    "        )\n",
    "        .reset_index()\n",
    "    )\n",
    "    return df"
   ]
  },
  {
   "cell_type": "code",
   "execution_count": 6,
   "id": "4c513853-3e0e-4eea-ba9a-28d84cc49073",
   "metadata": {},
   "outputs": [],
   "source": [
    "def add_dataset_col(df, uuid_train, uuid_val, uuid_test):\n",
    "    \n",
    "    df=df.copy()\n",
    "    # if uuid_train is None:\n",
    "    #     print(\"Assignning dataset to each UUID\")\n",
    "    #     uuid_train, uuid_test = train_test_split(df.uuid, test_size=0.20)\n",
    "    #     uuid_val, uuid_test = train_test_split(uuid_test, test_size=0.50)\n",
    "    # print(\n",
    "    #     len(df), \"=\", len(uuid_train), \"+\", len(uuid_val), \"+\", len(uuid_test)    \n",
    "    # )\n",
    "    df.loc[df.uuid.isin(uuid_train), 'dataset'] = 'Train'\n",
    "    df.loc[df.uuid.isin(uuid_val), 'dataset'] = 'Validation'\n",
    "    df.loc[df.uuid.isin(uuid_test), 'dataset'] = 'Test'\n",
    "    return df"
   ]
  },
  {
   "cell_type": "code",
   "execution_count": 7,
   "id": "30fe6c7e-82cf-4fe5-98e2-0b359283831a",
   "metadata": {},
   "outputs": [],
   "source": [
    "def cr_gene_type_df(gene_type):\n",
    "    df = pd.concat([\n",
    "        load_all_cases('bladder', gene_type),\n",
    "        load_all_cases('skin', gene_type),\n",
    "        load_all_cases('pancreas', gene_type),\n",
    "        load_all_cases('brain', gene_type),\n",
    "        load_all_cases('thyroid_gland', gene_type)\n",
    "    ]).pipe(add_dataset_col)\n",
    "    print(\n",
    "        df.groupby([('cancer_type', ''), ('dataset','')]).uuid.count()\n",
    "    )\n",
    "    return df"
   ]
  },
  {
   "cell_type": "code",
   "execution_count": 8,
   "id": "859bb44e-4715-4070-bb83-78e4e44341e1",
   "metadata": {},
   "outputs": [],
   "source": [
    "def build_pca(df):\n",
    "    df_train = df[df['dataset']==\"Train\"]\n",
    "    xtrain = df_train.drop(columns=[('cancer_type', ''), ('uuid',''), ('dataset','')])\n",
    "    ytrain = df_train[('cancer_type','')]\n",
    "    pca = PCA(n_components=50)\n",
    "    pca.fit_transform(xtrain)\n",
    "    return pca"
   ]
  },
  {
   "cell_type": "code",
   "execution_count": 9,
   "id": "4034f902-8266-46bc-a891-ac792b220e62",
   "metadata": {},
   "outputs": [],
   "source": [
    "def build_logreg(df, pca):\n",
    "    df_train = df[df['dataset']==\"Train\"]\n",
    "    xtrain = df_train.drop(columns=[('cancer_type', ''), ('uuid',''),  ('dataset','')])\n",
    "    ytrain = df_train[('cancer_type','')]\n",
    "    xtrain_pca = pca.transform(xtrain)\n",
    "    \n",
    "    logreg = LogisticRegression(max_iter=1000)\n",
    "    logreg.fit(xtrain_pca, ytrain)\n",
    "    return logreg"
   ]
  },
  {
   "cell_type": "code",
   "execution_count": 10,
   "id": "f5872fa4-6302-43a3-b9fe-2f8d1c699c68",
   "metadata": {},
   "outputs": [],
   "source": [
    "def add_predictions(df, pca, logreg):\n",
    "    x = df.drop(columns=[('cancer_type', ''), ('uuid',''),  ('dataset','')])\n",
    "    x_pca = pca.transform(x)\n",
    "    df = df.assign(logreg_prediction = logreg.predict(x_pca))\n",
    "    return df"
   ]
  },
  {
   "cell_type": "code",
   "execution_count": 11,
   "id": "8176a8f8-d04e-4aad-9b9b-0683fd0ca86e",
   "metadata": {},
   "outputs": [],
   "source": [
    "all_gene_types = \"\"\"protein_coding\n",
    "lncRNA\n",
    "processed_pseudogene\n",
    "unprocessed_pseudogene\n",
    "miRNA\n",
    "snRNA\n",
    "misc_RNA\n",
    "TEC\n",
    "transcribed_unprocessed_pseudogene\n",
    "snoRNA\n",
    "transcribed_processed_pseudogene\n",
    "rRNA_pseudogene\n",
    "IG_V_pseudogene\n",
    "IG_V_gene\n",
    "transcribed_unitary_pseudogene\n",
    "TR_V_gene\n",
    "unitary_pseudogene\n",
    "TR_J_gene\n",
    "scaRNA\n",
    "polymorphic_pseudogene\n",
    "rRNA\n",
    "IG_D_gene\n",
    "TR_V_pseudogene\n",
    "Mt_tRNA\n",
    "IG_J_gene\n",
    "pseudogene\n",
    "IG_C_gene\n",
    "IG_C_pseudogene\n",
    "ribozyme\n",
    "TR_C_gene\n",
    "sRNA\n",
    "TR_J_pseudogene\n",
    "TR_D_gene\n",
    "IG_J_pseudogene\n",
    "Mt_rRNA\n",
    "translated_processed_pseudogene\n",
    "scRNA\n",
    "translated_unprocessed_pseudogene\n",
    "IG_pseudogene\n",
    "vault_RNA\"\"\".split(\"\\n\")"
   ]
  },
  {
   "cell_type": "code",
   "execution_count": 12,
   "id": "6768f2a0-446b-480b-aa93-94ca49716b1b",
   "metadata": {},
   "outputs": [
    {
     "data": {
      "application/vnd.jupyter.widget-view+json": {
       "model_id": "2e50d374b2bf4f79bb1b827c59bde1fd",
       "version_major": 2,
       "version_minor": 0
      },
      "text/plain": [
       "  0%|          | 0/40 [00:00<?, ?it/s]"
      ]
     },
     "metadata": {},
     "output_type": "display_data"
    },
    {
     "ename": "FileNotFoundError",
     "evalue": "[WinError 3] The system cannot find the path specified: '..\\\\data\\\\bladder'",
     "output_type": "error",
     "traceback": [
      "\u001b[1;31m---------------------------------------------------------------------------\u001b[0m",
      "\u001b[1;31mFileNotFoundError\u001b[0m                         Traceback (most recent call last)",
      "Cell \u001b[1;32mIn[12], line 7\u001b[0m\n\u001b[0;32m      3\u001b[0m random\u001b[38;5;241m.\u001b[39mseed(random_seed)\n\u001b[0;32m      5\u001b[0m \u001b[38;5;28;01mfor\u001b[39;00m gene_type \u001b[38;5;129;01min\u001b[39;00m tqdm(all_gene_types):\n\u001b[1;32m----> 7\u001b[0m     df \u001b[38;5;241m=\u001b[39m cr_gene_type_df(gene_type)\n\u001b[0;32m      8\u001b[0m     pca \u001b[38;5;241m=\u001b[39m build_pca(df)\n\u001b[0;32m      9\u001b[0m     logreg \u001b[38;5;241m=\u001b[39m build_logreg(df, pca)\n",
      "Cell \u001b[1;32mIn[7], line 3\u001b[0m, in \u001b[0;36mcr_gene_type_df\u001b[1;34m(gene_type)\u001b[0m\n\u001b[0;32m      1\u001b[0m \u001b[38;5;28;01mdef\u001b[39;00m \u001b[38;5;21mcr_gene_type_df\u001b[39m(gene_type):\n\u001b[0;32m      2\u001b[0m     df \u001b[38;5;241m=\u001b[39m pd\u001b[38;5;241m.\u001b[39mconcat([\n\u001b[1;32m----> 3\u001b[0m         load_all_cases(\u001b[38;5;124m'\u001b[39m\u001b[38;5;124mbladder\u001b[39m\u001b[38;5;124m'\u001b[39m, gene_type),\n\u001b[0;32m      4\u001b[0m         load_all_cases(\u001b[38;5;124m'\u001b[39m\u001b[38;5;124mskin\u001b[39m\u001b[38;5;124m'\u001b[39m, gene_type),\n\u001b[0;32m      5\u001b[0m         load_all_cases(\u001b[38;5;124m'\u001b[39m\u001b[38;5;124mpancreas\u001b[39m\u001b[38;5;124m'\u001b[39m, gene_type),\n\u001b[0;32m      6\u001b[0m         load_all_cases(\u001b[38;5;124m'\u001b[39m\u001b[38;5;124mbrain\u001b[39m\u001b[38;5;124m'\u001b[39m, gene_type),\n\u001b[0;32m      7\u001b[0m         load_all_cases(\u001b[38;5;124m'\u001b[39m\u001b[38;5;124mthyroid_gland\u001b[39m\u001b[38;5;124m'\u001b[39m, gene_type)\n\u001b[0;32m      8\u001b[0m     ])\u001b[38;5;241m.\u001b[39mpipe(add_dataset_col)\n\u001b[0;32m      9\u001b[0m     \u001b[38;5;28mprint\u001b[39m(\n\u001b[0;32m     10\u001b[0m         df\u001b[38;5;241m.\u001b[39mgroupby([(\u001b[38;5;124m'\u001b[39m\u001b[38;5;124mcancer_type\u001b[39m\u001b[38;5;124m'\u001b[39m, \u001b[38;5;124m'\u001b[39m\u001b[38;5;124m'\u001b[39m), (\u001b[38;5;124m'\u001b[39m\u001b[38;5;124mdataset\u001b[39m\u001b[38;5;124m'\u001b[39m,\u001b[38;5;124m'\u001b[39m\u001b[38;5;124m'\u001b[39m)])\u001b[38;5;241m.\u001b[39muuid\u001b[38;5;241m.\u001b[39mcount()\n\u001b[0;32m     11\u001b[0m     )\n\u001b[0;32m     12\u001b[0m     \u001b[38;5;28;01mreturn\u001b[39;00m df\n",
      "Cell \u001b[1;32mIn[5], line 2\u001b[0m, in \u001b[0;36mload_all_cases\u001b[1;34m(cancer_type, gene_type)\u001b[0m\n\u001b[0;32m      1\u001b[0m \u001b[38;5;28;01mdef\u001b[39;00m \u001b[38;5;21mload_all_cases\u001b[39m(cancer_type, gene_type):\n\u001b[1;32m----> 2\u001b[0m     uuids \u001b[38;5;241m=\u001b[39m os\u001b[38;5;241m.\u001b[39mlistdir(os\u001b[38;5;241m.\u001b[39mpath\u001b[38;5;241m.\u001b[39mjoin(\u001b[38;5;124m\"\u001b[39m\u001b[38;5;124m..\u001b[39m\u001b[38;5;124m\"\u001b[39m, \u001b[38;5;124m\"\u001b[39m\u001b[38;5;124mdata\u001b[39m\u001b[38;5;124m\"\u001b[39m, cancer_type))\n\u001b[0;32m      3\u001b[0m     df \u001b[38;5;241m=\u001b[39m (\n\u001b[0;32m      4\u001b[0m         pd\n\u001b[0;32m      5\u001b[0m         \u001b[38;5;241m.\u001b[39mconcat([read_uuid(\u001b[38;5;124m\"\u001b[39m\u001b[38;5;124m..\u001b[39m\u001b[38;5;124m\"\u001b[39m, cancer_type, uuid) \u001b[38;5;28;01mfor\u001b[39;00m uuid \u001b[38;5;129;01min\u001b[39;00m tqdm(uuids)])\n\u001b[1;32m   (...)\u001b[0m\n\u001b[0;32m     12\u001b[0m         \u001b[38;5;241m.\u001b[39mreset_index()\n\u001b[0;32m     13\u001b[0m     )\n\u001b[0;32m     14\u001b[0m     \u001b[38;5;28;01mreturn\u001b[39;00m df\n",
      "\u001b[1;31mFileNotFoundError\u001b[0m: [WinError 3] The system cannot find the path specified: '..\\\\data\\\\bladder'"
     ]
    }
   ],
   "source": [
    "random_seed = 111\n",
    "np.random.seed(random_seed)\n",
    "random.seed(random_seed)\n",
    "\n",
    "for gene_type in tqdm(all_gene_types):\n",
    "    \n",
    "    df = cr_gene_type_df(gene_type)\n",
    "    pca = build_pca(df)\n",
    "    logreg = build_logreg(df, pca)\n",
    "    df_final = add_predictions(df, pca, logreg)\n",
    "    \n",
    "    output_path = os.path.join(\"..\", \"output\", gene_type)\n",
    "    os.mkdir(output_path)\n",
    "    df_final.to_csv(os.path.join(output_path, \"df_final.csv\"))\n",
    "    with open(os.path.join(output_path, \"pca.pickle\"), \"wb\") as f:\n",
    "        pickle.dump(pca, f)\n",
    "    with open(os.path.join(output_path, \"logreg.pickle\"), \"wb\") as f:\n",
    "        pickle.dump(logreg, f)"
   ]
  },
  {
   "cell_type": "code",
   "execution_count": null,
   "id": "21a36d18-555f-493d-9286-0f6b528d9b73",
   "metadata": {},
   "outputs": [],
   "source": []
  }
 ],
 "metadata": {
  "kernelspec": {
   "display_name": "Python 3 (ipykernel)",
   "language": "python",
   "name": "python3"
  },
  "language_info": {
   "codemirror_mode": {
    "name": "ipython",
    "version": 3
   },
   "file_extension": ".py",
   "mimetype": "text/x-python",
   "name": "python",
   "nbconvert_exporter": "python",
   "pygments_lexer": "ipython3",
   "version": "3.12.4"
  }
 },
 "nbformat": 4,
 "nbformat_minor": 5
}
