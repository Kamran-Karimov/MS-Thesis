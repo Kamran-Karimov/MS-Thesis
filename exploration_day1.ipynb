{
 "cells": [
  {
   "cell_type": "code",
   "execution_count": 1,
   "id": "c903d08e-4866-4c26-9869-bc261f933c28",
   "metadata": {},
   "outputs": [
    {
     "name": "stdout",
     "output_type": "stream",
     "text": [
      "C:\\Users\\kamra\\Thesis-code\n"
     ]
    }
   ],
   "source": [
    "import os\n",
    "rootdir = os.path.abspath(\"..\")\n",
    "print(rootdir)"
   ]
  },
  {
   "cell_type": "code",
   "execution_count": 2,
   "id": "22c87264-af67-4251-9cdc-da57153fd97f",
   "metadata": {},
   "outputs": [
    {
     "ename": "FileNotFoundError",
     "evalue": "[WinError 3] The system cannot find the path specified: 'C:\\\\Users\\\\kamra\\\\Thesis-code\\\\data\\\\bladder'",
     "output_type": "error",
     "traceback": [
      "\u001b[1;31m---------------------------------------------------------------------------\u001b[0m",
      "\u001b[1;31mFileNotFoundError\u001b[0m                         Traceback (most recent call last)",
      "Cell \u001b[1;32mIn[2], line 2\u001b[0m\n\u001b[0;32m      1\u001b[0m cancer_type \u001b[38;5;241m=\u001b[39m \u001b[38;5;124m\"\u001b[39m\u001b[38;5;124mbladder\u001b[39m\u001b[38;5;124m\"\u001b[39m\n\u001b[1;32m----> 2\u001b[0m uuids \u001b[38;5;241m=\u001b[39m os\u001b[38;5;241m.\u001b[39mlistdir(os\u001b[38;5;241m.\u001b[39mpath\u001b[38;5;241m.\u001b[39mjoin(rootdir, \u001b[38;5;124m\"\u001b[39m\u001b[38;5;124mdata\u001b[39m\u001b[38;5;124m\"\u001b[39m, cancer_type))\n",
      "\u001b[1;31mFileNotFoundError\u001b[0m: [WinError 3] The system cannot find the path specified: 'C:\\\\Users\\\\kamra\\\\Thesis-code\\\\data\\\\bladder'"
     ]
    }
   ],
   "source": [
    "cancer_type = \"bladder\"\n",
    "uuids = os.listdir(os.path.join(rootdir, \"data\", cancer_type))"
   ]
  },
  {
   "cell_type": "code",
   "execution_count": 3,
   "id": "f1c35db8-025d-48b3-ba3a-c63f145de808",
   "metadata": {},
   "outputs": [
    {
     "data": {
      "text/plain": [
       "'/home/bashir/Kamran-Dissertation/data/bladder/65ddebff-ab5c-4d45-967b-74f211274363/8123eafd-3824-45ca-8f6a-76b5aca39d13.rna_seq.augmented_star_gene_counts.tsv'"
      ]
     },
     "execution_count": 3,
     "metadata": {},
     "output_type": "execute_result"
    }
   ],
   "source": [
    "sample_file_path = os.path.join(\n",
    "    rootdir, \"data\", cancer_type, uuids[0],\n",
    "    next(filter( lambda s : s.endswith(\"tsv\"),os.listdir(os.path.join(rootdir, \"data\", cancer_type, uuids[0])) )),\n",
    ")\n",
    "sample_file_path"
   ]
  },
  {
   "cell_type": "code",
   "execution_count": 4,
   "id": "f2385f41-7103-4f47-b18d-a50ff9d83ad9",
   "metadata": {},
   "outputs": [
    {
     "data": {
      "text/plain": [
       "['# gene-model: GENCODE v36\\n',\n",
       " 'gene_id\\tgene_name\\tgene_type\\tunstranded\\tstranded_first\\tstranded_second\\ttpm_unstranded\\tfpkm_unstranded\\tfpkm_uq_unstranded\\n',\n",
       " 'N_unmapped\\t\\t\\t1538355\\t1538355\\t1538355\\t\\t\\t\\n',\n",
       " 'N_multimapping\\t\\t\\t3541537\\t3541537\\t3541537\\t\\t\\t\\n',\n",
       " 'N_noFeature\\t\\t\\t1877607\\t21359005\\t21477610\\t\\t\\t\\n',\n",
       " 'N_ambiguous\\t\\t\\t3766432\\t895946\\t884364\\t\\t\\t\\n',\n",
       " 'ENSG00000000003.15\\tTSPAN6\\tprotein_coding\\t2821\\t1441\\t1380\\t48.0510\\t17.0271\\t19.2561\\n',\n",
       " 'ENSG00000000005.6\\tTNMD\\tprotein_coding\\t0\\t0\\t0\\t0.0000\\t0.0000\\t0.0000\\n',\n",
       " 'ENSG00000000419.13\\tDPM1\\tprotein_coding\\t1722\\t907\\t815\\t110.2297\\t39.0605\\t44.1737\\n',\n",
       " 'ENSG00000000457.14\\tSCYL3\\tprotein_coding\\t630\\t600\\t583\\t7.0719\\t2.5060\\t2.8340\\n',\n",
       " 'ENSG00000000460.17\\tC1orf112\\tprotein_coding\\t422\\t485\\t517\\t5.4615\\t1.9353\\t2.1887\\n',\n",
       " 'ENSG00000000938.13\\tFGR\\tprotein_coding\\t432\\t194\\t238\\t9.8692\\t3.4972\\t3.9550\\n',\n",
       " 'ENSG00000000971.16\\tCFH\\tprotein_coding\\t3634\\t1802\\t1832\\t35.1848\\t12.4679\\t14.1000\\n',\n",
       " 'ENSG00000001036.14\\tFUCA2\\tprotein_coding\\t1608\\t1150\\t1117\\t44.0253\\t15.6006\\t17.6428\\n',\n",
       " 'ENSG00000001084.13\\tGCLC\\tprotein_coding\\t894\\t500\\t502\\t8.0150\\t2.8402\\t3.2120\\n',\n",
       " 'ENSG00000001167.14\\tNFYA\\tprotein_coding\\t676\\t363\\t378\\t13.7050\\t4.8565\\t5.4922\\n',\n",
       " 'ENSG00000001460.18\\tSTPG1\\tprotein_coding\\t414\\t226\\t201\\t3.7583\\t1.3318\\t1.5061\\n',\n",
       " 'ENSG00000001461.17\\tNIPAL3\\tprotein_coding\\t1349\\t673\\t689\\t11.0928\\t3.9308\\t4.4454\\n',\n",
       " 'ENSG00000001497.18\\tLAS1L\\tprotein_coding\\t2248\\t1103\\t1149\\t13.8341\\t4.9022\\t5.5439\\n',\n",
       " 'ENSG00000001561.7\\tENPP4\\tprotein_coding\\t424\\t192\\t232\\t7.0542\\t2.4997\\t2.8269\\n']"
      ]
     },
     "execution_count": 4,
     "metadata": {},
     "output_type": "execute_result"
    }
   ],
   "source": [
    "with open(sample_file_path, \"r\") as f:\n",
    "    lines = f.readlines()\n",
    "lines[:20]"
   ]
  },
  {
   "cell_type": "code",
   "execution_count": 5,
   "id": "08806f86-16ac-4565-b1ee-a2ff49239b63",
   "metadata": {},
   "outputs": [],
   "source": [
    "import pandas as pd\n",
    "from tqdm.notebook import tqdm"
   ]
  },
  {
   "cell_type": "code",
   "execution_count": 6,
   "id": "6d624ac9-4516-4044-b486-15a1c3d3eacc",
   "metadata": {},
   "outputs": [
    {
     "data": {
      "application/vnd.jupyter.widget-view+json": {
       "model_id": "d63516e66d084406972253ee08c8704d",
       "version_major": 2,
       "version_minor": 0
      },
      "text/plain": [
       "  0%|          | 0/431 [00:00<?, ?it/s]"
      ]
     },
     "metadata": {},
     "output_type": "display_data"
    }
   ],
   "source": [
    "list_of_dfs = []\n",
    "for uuid in tqdm(uuids):\n",
    "    try:\n",
    "        filepath = os.path.join(rootdir, \"data\", cancer_type, uuid, \n",
    "                                next(filter( lambda s : s.endswith(\"tsv\"),os.listdir(os.path.join(rootdir, \"data\", cancer_type, uuid)) ))\n",
    "                               )\n",
    "        df = pd.read_csv(filepath, sep=\"\\t\", skiprows=[0,2,3,4,5]) #, header=[\"GenID\", \"\"])\n",
    "        list_of_dfs.append(df)\n",
    "    except Exception as e:\n",
    "        print(f\"Error with {filepath}\\n{e}\")"
   ]
  },
  {
   "cell_type": "code",
   "execution_count": 7,
   "id": "a1c8982d-7564-4a2c-92d6-8e8da2d94ae6",
   "metadata": {},
   "outputs": [
    {
     "data": {
      "text/plain": [
       "False"
      ]
     },
     "execution_count": 7,
     "metadata": {},
     "output_type": "execute_result"
    }
   ],
   "source": [
    "# Is there a null value in any of the dataframes?\n",
    "any(\n",
    "    [df.isna().any().any() for df in list_of_dfs]\n",
    ")"
   ]
  },
  {
   "cell_type": "code",
   "execution_count": 8,
   "id": "749d8e26-c831-4a6f-8979-e6248474d5c5",
   "metadata": {},
   "outputs": [
    {
     "data": {
      "text/html": [
       "<div>\n",
       "<style scoped>\n",
       "    .dataframe tbody tr th:only-of-type {\n",
       "        vertical-align: middle;\n",
       "    }\n",
       "\n",
       "    .dataframe tbody tr th {\n",
       "        vertical-align: top;\n",
       "    }\n",
       "\n",
       "    .dataframe thead th {\n",
       "        text-align: right;\n",
       "    }\n",
       "</style>\n",
       "<table border=\"1\" class=\"dataframe\">\n",
       "  <thead>\n",
       "    <tr style=\"text-align: right;\">\n",
       "      <th></th>\n",
       "      <th>gene_id</th>\n",
       "      <th>gene_name</th>\n",
       "    </tr>\n",
       "  </thead>\n",
       "  <tbody>\n",
       "  </tbody>\n",
       "</table>\n",
       "</div>"
      ],
      "text/plain": [
       "Empty DataFrame\n",
       "Columns: [gene_id, gene_name]\n",
       "Index: []"
      ]
     },
     "execution_count": 8,
     "metadata": {},
     "output_type": "execute_result"
    }
   ],
   "source": [
    "# confirm gene_id to gene_name mapping is unique\n",
    "id_name_mapping = pd.concat([df[['gene_id', 'gene_name']] for df in list_of_dfs]).drop_duplicates()\n",
    "id_name_mapping.groupby('gene_id').gene_name.count().reset_index().query('gene_name>1')"
   ]
  },
  {
   "cell_type": "code",
   "execution_count": 9,
   "id": "5087d5c9-a92d-4ea7-9df3-e6d355974ce2",
   "metadata": {},
   "outputs": [
    {
     "data": {
      "text/html": [
       "<div>\n",
       "<style scoped>\n",
       "    .dataframe tbody tr th:only-of-type {\n",
       "        vertical-align: middle;\n",
       "    }\n",
       "\n",
       "    .dataframe tbody tr th {\n",
       "        vertical-align: top;\n",
       "    }\n",
       "\n",
       "    .dataframe thead th {\n",
       "        text-align: right;\n",
       "    }\n",
       "</style>\n",
       "<table border=\"1\" class=\"dataframe\">\n",
       "  <thead>\n",
       "    <tr style=\"text-align: right;\">\n",
       "      <th></th>\n",
       "      <th>gene_type</th>\n",
       "      <th>gene_name</th>\n",
       "    </tr>\n",
       "  </thead>\n",
       "  <tbody>\n",
       "    <tr>\n",
       "      <th>22</th>\n",
       "      <td>protein_coding</td>\n",
       "      <td>19938</td>\n",
       "    </tr>\n",
       "    <tr>\n",
       "      <th>17</th>\n",
       "      <td>lncRNA</td>\n",
       "      <td>16882</td>\n",
       "    </tr>\n",
       "    <tr>\n",
       "      <th>21</th>\n",
       "      <td>processed_pseudogene</td>\n",
       "      <td>10160</td>\n",
       "    </tr>\n",
       "    <tr>\n",
       "      <th>38</th>\n",
       "      <td>unprocessed_pseudogene</td>\n",
       "      <td>2612</td>\n",
       "    </tr>\n",
       "    <tr>\n",
       "      <th>18</th>\n",
       "      <td>miRNA</td>\n",
       "      <td>1879</td>\n",
       "    </tr>\n",
       "    <tr>\n",
       "      <th>30</th>\n",
       "      <td>snRNA</td>\n",
       "      <td>1837</td>\n",
       "    </tr>\n",
       "    <tr>\n",
       "      <th>19</th>\n",
       "      <td>misc_RNA</td>\n",
       "      <td>1279</td>\n",
       "    </tr>\n",
       "    <tr>\n",
       "      <th>10</th>\n",
       "      <td>TEC</td>\n",
       "      <td>1057</td>\n",
       "    </tr>\n",
       "    <tr>\n",
       "      <th>34</th>\n",
       "      <td>transcribed_unprocessed_pseudogene</td>\n",
       "      <td>938</td>\n",
       "    </tr>\n",
       "    <tr>\n",
       "      <th>31</th>\n",
       "      <td>snoRNA</td>\n",
       "      <td>793</td>\n",
       "    </tr>\n",
       "    <tr>\n",
       "      <th>32</th>\n",
       "      <td>transcribed_processed_pseudogene</td>\n",
       "      <td>500</td>\n",
       "    </tr>\n",
       "    <tr>\n",
       "      <th>25</th>\n",
       "      <td>rRNA_pseudogene</td>\n",
       "      <td>491</td>\n",
       "    </tr>\n",
       "    <tr>\n",
       "      <th>6</th>\n",
       "      <td>IG_V_pseudogene</td>\n",
       "      <td>187</td>\n",
       "    </tr>\n",
       "    <tr>\n",
       "      <th>5</th>\n",
       "      <td>IG_V_gene</td>\n",
       "      <td>145</td>\n",
       "    </tr>\n",
       "    <tr>\n",
       "      <th>33</th>\n",
       "      <td>transcribed_unitary_pseudogene</td>\n",
       "      <td>138</td>\n",
       "    </tr>\n",
       "    <tr>\n",
       "      <th>15</th>\n",
       "      <td>TR_V_gene</td>\n",
       "      <td>106</td>\n",
       "    </tr>\n",
       "    <tr>\n",
       "      <th>37</th>\n",
       "      <td>unitary_pseudogene</td>\n",
       "      <td>98</td>\n",
       "    </tr>\n",
       "    <tr>\n",
       "      <th>13</th>\n",
       "      <td>TR_J_gene</td>\n",
       "      <td>79</td>\n",
       "    </tr>\n",
       "    <tr>\n",
       "      <th>29</th>\n",
       "      <td>scaRNA</td>\n",
       "      <td>48</td>\n",
       "    </tr>\n",
       "    <tr>\n",
       "      <th>20</th>\n",
       "      <td>polymorphic_pseudogene</td>\n",
       "      <td>48</td>\n",
       "    </tr>\n",
       "    <tr>\n",
       "      <th>24</th>\n",
       "      <td>rRNA</td>\n",
       "      <td>40</td>\n",
       "    </tr>\n",
       "    <tr>\n",
       "      <th>2</th>\n",
       "      <td>IG_D_gene</td>\n",
       "      <td>37</td>\n",
       "    </tr>\n",
       "    <tr>\n",
       "      <th>16</th>\n",
       "      <td>TR_V_pseudogene</td>\n",
       "      <td>33</td>\n",
       "    </tr>\n",
       "    <tr>\n",
       "      <th>9</th>\n",
       "      <td>Mt_tRNA</td>\n",
       "      <td>22</td>\n",
       "    </tr>\n",
       "    <tr>\n",
       "      <th>3</th>\n",
       "      <td>IG_J_gene</td>\n",
       "      <td>18</td>\n",
       "    </tr>\n",
       "    <tr>\n",
       "      <th>23</th>\n",
       "      <td>pseudogene</td>\n",
       "      <td>18</td>\n",
       "    </tr>\n",
       "    <tr>\n",
       "      <th>0</th>\n",
       "      <td>IG_C_gene</td>\n",
       "      <td>14</td>\n",
       "    </tr>\n",
       "    <tr>\n",
       "      <th>1</th>\n",
       "      <td>IG_C_pseudogene</td>\n",
       "      <td>9</td>\n",
       "    </tr>\n",
       "    <tr>\n",
       "      <th>26</th>\n",
       "      <td>ribozyme</td>\n",
       "      <td>8</td>\n",
       "    </tr>\n",
       "    <tr>\n",
       "      <th>11</th>\n",
       "      <td>TR_C_gene</td>\n",
       "      <td>6</td>\n",
       "    </tr>\n",
       "    <tr>\n",
       "      <th>27</th>\n",
       "      <td>sRNA</td>\n",
       "      <td>5</td>\n",
       "    </tr>\n",
       "    <tr>\n",
       "      <th>14</th>\n",
       "      <td>TR_J_pseudogene</td>\n",
       "      <td>4</td>\n",
       "    </tr>\n",
       "    <tr>\n",
       "      <th>12</th>\n",
       "      <td>TR_D_gene</td>\n",
       "      <td>4</td>\n",
       "    </tr>\n",
       "    <tr>\n",
       "      <th>4</th>\n",
       "      <td>IG_J_pseudogene</td>\n",
       "      <td>3</td>\n",
       "    </tr>\n",
       "    <tr>\n",
       "      <th>8</th>\n",
       "      <td>Mt_rRNA</td>\n",
       "      <td>2</td>\n",
       "    </tr>\n",
       "    <tr>\n",
       "      <th>35</th>\n",
       "      <td>translated_processed_pseudogene</td>\n",
       "      <td>2</td>\n",
       "    </tr>\n",
       "    <tr>\n",
       "      <th>28</th>\n",
       "      <td>scRNA</td>\n",
       "      <td>1</td>\n",
       "    </tr>\n",
       "    <tr>\n",
       "      <th>36</th>\n",
       "      <td>translated_unprocessed_pseudogene</td>\n",
       "      <td>1</td>\n",
       "    </tr>\n",
       "    <tr>\n",
       "      <th>7</th>\n",
       "      <td>IG_pseudogene</td>\n",
       "      <td>1</td>\n",
       "    </tr>\n",
       "    <tr>\n",
       "      <th>39</th>\n",
       "      <td>vault_RNA</td>\n",
       "      <td>1</td>\n",
       "    </tr>\n",
       "  </tbody>\n",
       "</table>\n",
       "</div>"
      ],
      "text/plain": [
       "                             gene_type  gene_name\n",
       "22                      protein_coding      19938\n",
       "17                              lncRNA      16882\n",
       "21                processed_pseudogene      10160\n",
       "38              unprocessed_pseudogene       2612\n",
       "18                               miRNA       1879\n",
       "30                               snRNA       1837\n",
       "19                            misc_RNA       1279\n",
       "10                                 TEC       1057\n",
       "34  transcribed_unprocessed_pseudogene        938\n",
       "31                              snoRNA        793\n",
       "32    transcribed_processed_pseudogene        500\n",
       "25                     rRNA_pseudogene        491\n",
       "6                      IG_V_pseudogene        187\n",
       "5                            IG_V_gene        145\n",
       "33      transcribed_unitary_pseudogene        138\n",
       "15                           TR_V_gene        106\n",
       "37                  unitary_pseudogene         98\n",
       "13                           TR_J_gene         79\n",
       "29                              scaRNA         48\n",
       "20              polymorphic_pseudogene         48\n",
       "24                                rRNA         40\n",
       "2                            IG_D_gene         37\n",
       "16                     TR_V_pseudogene         33\n",
       "9                              Mt_tRNA         22\n",
       "3                            IG_J_gene         18\n",
       "23                          pseudogene         18\n",
       "0                            IG_C_gene         14\n",
       "1                      IG_C_pseudogene          9\n",
       "26                            ribozyme          8\n",
       "11                           TR_C_gene          6\n",
       "27                                sRNA          5\n",
       "14                     TR_J_pseudogene          4\n",
       "12                           TR_D_gene          4\n",
       "4                      IG_J_pseudogene          3\n",
       "8                              Mt_rRNA          2\n",
       "35     translated_processed_pseudogene          2\n",
       "28                               scRNA          1\n",
       "36   translated_unprocessed_pseudogene          1\n",
       "7                        IG_pseudogene          1\n",
       "39                           vault_RNA          1"
      ]
     },
     "execution_count": 9,
     "metadata": {},
     "output_type": "execute_result"
    }
   ],
   "source": [
    "# How many genes for each gene type\n",
    "gname_gtype_mapping = pd.concat([df[['gene_name', 'gene_type']] for df in list_of_dfs]).drop_duplicates()\n",
    "gname_gtype_mapping.groupby('gene_type').gene_name.count().reset_index().sort_values(by='gene_name', ascending=False)"
   ]
  },
  {
   "cell_type": "code",
   "execution_count": 17,
   "id": "06f97d47-8aff-4e6f-b602-63be2f749452",
   "metadata": {},
   "outputs": [
    {
     "data": {
      "text/plain": [
       "0         48.0510\n",
       "1          0.0000\n",
       "2        110.2297\n",
       "3          7.0719\n",
       "4          5.4615\n",
       "           ...   \n",
       "60655      0.0000\n",
       "60656      7.6964\n",
       "60657      0.0000\n",
       "60658      0.0562\n",
       "60659      1.1957\n",
       "Name: tpm_unstranded, Length: 60660, dtype: float64"
      ]
     },
     "execution_count": 17,
     "metadata": {},
     "output_type": "execute_result"
    }
   ],
   "source": [
    "list_of_dfs[0].tpm_unstranded "
   ]
  }
 ],
 "metadata": {
  "kernelspec": {
   "display_name": "Python 3 (ipykernel)",
   "language": "python",
   "name": "python3"
  },
  "language_info": {
   "codemirror_mode": {
    "name": "ipython",
    "version": 3
   },
   "file_extension": ".py",
   "mimetype": "text/x-python",
   "name": "python",
   "nbconvert_exporter": "python",
   "pygments_lexer": "ipython3",
   "version": "3.12.4"
  }
 },
 "nbformat": 4,
 "nbformat_minor": 5
}
